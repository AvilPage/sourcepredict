{
 "cells": [
  {
   "cell_type": "markdown",
   "metadata": {},
   "source": [
    "# Sourcepredict analyis example"
   ]
  },
  {
   "cell_type": "code",
   "execution_count": 1,
   "metadata": {},
   "outputs": [],
   "source": [
    "import pandas as pd"
   ]
  },
  {
   "cell_type": "markdown",
   "metadata": {},
   "source": [
    "In this example, we'll apply Sourcepredict to the example data.   \n",
    "\n",
    "The [example source files](https://github.com/maxibor/sourcepredict/blob/master/data/modern_gut_microbiomes_sources.csv) contains the following sources:\n",
    "- *Homo sapiens* gut microbiome ([1](https://doi.org/10.1038/nature11234), [2](https://doi.org/10.1093/gigascience/giz004), [3](https://doi.org/10.1038/s41564-019-0409-6), [4](https://doi.org/10.1016/j.cell.2019.01.001), [5](https://doi.org/10.1038/ncomms7505), [6](http://doi.org/10.1016/j.cub.2015.04.055))\n",
    "- *Canis familiaris* gut microbiome ([1](https://doi.org/10.1186/s40168-018-0450-3))\n",
    "- Soil microbiome ([1](https://doi.org/10.1073/pnas.1215210110), [2](https://www.ncbi.nlm.nih.gov/bioproject/?term=322597), [3](https://dx.doi.org/10.1128%2FAEM.01646-17))"
   ]
  },
  {
   "cell_type": "code",
   "execution_count": 4,
   "metadata": {},
   "outputs": [],
   "source": [
    "src = pd.read_csv(\"../data/modern_gut_microbiomes_sources.csv\", index_col=0)\n",
    "labels = pd.read_csv(\"../data/modern_gut_microbiomes_labels.csv\", index_col=0)"
   ]
  },
  {
   "cell_type": "markdown",
   "metadata": {},
   "source": [
    "A source file is a OTU count table containing the samples as columns headers, and the TAXID as row indices"
   ]
  },
  {
   "cell_type": "code",
   "execution_count": 5,
   "metadata": {},
   "outputs": [
    {
     "data": {
      "text/html": [
       "<div>\n",
       "<style scoped>\n",
       "    .dataframe tbody tr th:only-of-type {\n",
       "        vertical-align: middle;\n",
       "    }\n",
       "\n",
       "    .dataframe tbody tr th {\n",
       "        vertical-align: top;\n",
       "    }\n",
       "\n",
       "    .dataframe thead th {\n",
       "        text-align: right;\n",
       "    }\n",
       "</style>\n",
       "<table border=\"1\" class=\"dataframe\">\n",
       "  <thead>\n",
       "    <tr style=\"text-align: right;\">\n",
       "      <th></th>\n",
       "      <th>SRR1175007</th>\n",
       "      <th>SRR042182</th>\n",
       "      <th>SRR061154</th>\n",
       "      <th>SRR061499</th>\n",
       "      <th>SRR063469</th>\n",
       "      <th>SRR062324</th>\n",
       "      <th>SRR1179037</th>\n",
       "      <th>SRR061236</th>\n",
       "      <th>SRR061456</th>\n",
       "      <th>SRR642021</th>\n",
       "      <th>...</th>\n",
       "      <th>mgm4477903_3</th>\n",
       "      <th>mgm4477807_3</th>\n",
       "      <th>mgm4477874_3</th>\n",
       "      <th>mgm4477904_3</th>\n",
       "      <th>mgm4477804_3</th>\n",
       "      <th>mgm4477873_3</th>\n",
       "      <th>ERR1939166</th>\n",
       "      <th>SRR3578625</th>\n",
       "      <th>ERR1939165</th>\n",
       "      <th>SRR3578645</th>\n",
       "    </tr>\n",
       "    <tr>\n",
       "      <th>TAXID</th>\n",
       "      <th></th>\n",
       "      <th></th>\n",
       "      <th></th>\n",
       "      <th></th>\n",
       "      <th></th>\n",
       "      <th></th>\n",
       "      <th></th>\n",
       "      <th></th>\n",
       "      <th></th>\n",
       "      <th></th>\n",
       "      <th></th>\n",
       "      <th></th>\n",
       "      <th></th>\n",
       "      <th></th>\n",
       "      <th></th>\n",
       "      <th></th>\n",
       "      <th></th>\n",
       "      <th></th>\n",
       "      <th></th>\n",
       "      <th></th>\n",
       "      <th></th>\n",
       "    </tr>\n",
       "  </thead>\n",
       "  <tbody>\n",
       "    <tr>\n",
       "      <th>0</th>\n",
       "      <td>3528337.0</td>\n",
       "      <td>11563613.0</td>\n",
       "      <td>10084261.0</td>\n",
       "      <td>20054993.0</td>\n",
       "      <td>8747525.0</td>\n",
       "      <td>12116517.0</td>\n",
       "      <td>4191329.0</td>\n",
       "      <td>13992760.0</td>\n",
       "      <td>14825759.0</td>\n",
       "      <td>11083673.0</td>\n",
       "      <td>...</td>\n",
       "      <td>6169203.0</td>\n",
       "      <td>8820851.0</td>\n",
       "      <td>5713837.0</td>\n",
       "      <td>10238500.0</td>\n",
       "      <td>5055930.0</td>\n",
       "      <td>10380594.0</td>\n",
       "      <td>13391896.0</td>\n",
       "      <td>1553.0</td>\n",
       "      <td>14802198.0</td>\n",
       "      <td>736.0</td>\n",
       "    </tr>\n",
       "    <tr>\n",
       "      <th>6</th>\n",
       "      <td>0.0</td>\n",
       "      <td>78.0</td>\n",
       "      <td>0.0</td>\n",
       "      <td>127.0</td>\n",
       "      <td>0.0</td>\n",
       "      <td>79.0</td>\n",
       "      <td>0.0</td>\n",
       "      <td>0.0</td>\n",
       "      <td>0.0</td>\n",
       "      <td>172.0</td>\n",
       "      <td>...</td>\n",
       "      <td>68.0</td>\n",
       "      <td>247.0</td>\n",
       "      <td>211.0</td>\n",
       "      <td>156.0</td>\n",
       "      <td>147.0</td>\n",
       "      <td>383.0</td>\n",
       "      <td>1353.0</td>\n",
       "      <td>0.0</td>\n",
       "      <td>1522.0</td>\n",
       "      <td>0.0</td>\n",
       "    </tr>\n",
       "    <tr>\n",
       "      <th>7</th>\n",
       "      <td>0.0</td>\n",
       "      <td>78.0</td>\n",
       "      <td>0.0</td>\n",
       "      <td>127.0</td>\n",
       "      <td>0.0</td>\n",
       "      <td>79.0</td>\n",
       "      <td>0.0</td>\n",
       "      <td>0.0</td>\n",
       "      <td>0.0</td>\n",
       "      <td>172.0</td>\n",
       "      <td>...</td>\n",
       "      <td>68.0</td>\n",
       "      <td>247.0</td>\n",
       "      <td>211.0</td>\n",
       "      <td>156.0</td>\n",
       "      <td>147.0</td>\n",
       "      <td>383.0</td>\n",
       "      <td>1353.0</td>\n",
       "      <td>0.0</td>\n",
       "      <td>1522.0</td>\n",
       "      <td>0.0</td>\n",
       "    </tr>\n",
       "    <tr>\n",
       "      <th>9</th>\n",
       "      <td>0.0</td>\n",
       "      <td>129.0</td>\n",
       "      <td>0.0</td>\n",
       "      <td>153.0</td>\n",
       "      <td>0.0</td>\n",
       "      <td>151.0</td>\n",
       "      <td>0.0</td>\n",
       "      <td>165.0</td>\n",
       "      <td>96.0</td>\n",
       "      <td>0.0</td>\n",
       "      <td>...</td>\n",
       "      <td>0.0</td>\n",
       "      <td>0.0</td>\n",
       "      <td>0.0</td>\n",
       "      <td>0.0</td>\n",
       "      <td>0.0</td>\n",
       "      <td>0.0</td>\n",
       "      <td>77.0</td>\n",
       "      <td>0.0</td>\n",
       "      <td>65.0</td>\n",
       "      <td>0.0</td>\n",
       "    </tr>\n",
       "    <tr>\n",
       "      <th>10</th>\n",
       "      <td>0.0</td>\n",
       "      <td>160.0</td>\n",
       "      <td>0.0</td>\n",
       "      <td>193.0</td>\n",
       "      <td>0.0</td>\n",
       "      <td>99.0</td>\n",
       "      <td>0.0</td>\n",
       "      <td>55.0</td>\n",
       "      <td>249.0</td>\n",
       "      <td>238.0</td>\n",
       "      <td>...</td>\n",
       "      <td>0.0</td>\n",
       "      <td>0.0</td>\n",
       "      <td>0.0</td>\n",
       "      <td>0.0</td>\n",
       "      <td>0.0</td>\n",
       "      <td>0.0</td>\n",
       "      <td>263.0</td>\n",
       "      <td>0.0</td>\n",
       "      <td>466.0</td>\n",
       "      <td>0.0</td>\n",
       "    </tr>\n",
       "  </tbody>\n",
       "</table>\n",
       "<p>5 rows × 432 columns</p>\n",
       "</div>"
      ],
      "text/plain": [
       "       SRR1175007   SRR042182   SRR061154   SRR061499  SRR063469   SRR062324  \\\n",
       "TAXID                                                                          \n",
       "0       3528337.0  11563613.0  10084261.0  20054993.0  8747525.0  12116517.0   \n",
       "6             0.0        78.0         0.0       127.0        0.0        79.0   \n",
       "7             0.0        78.0         0.0       127.0        0.0        79.0   \n",
       "9             0.0       129.0         0.0       153.0        0.0       151.0   \n",
       "10            0.0       160.0         0.0       193.0        0.0        99.0   \n",
       "\n",
       "       SRR1179037   SRR061236   SRR061456   SRR642021  ...  mgm4477903_3  \\\n",
       "TAXID                                                  ...                 \n",
       "0       4191329.0  13992760.0  14825759.0  11083673.0  ...     6169203.0   \n",
       "6             0.0         0.0         0.0       172.0  ...          68.0   \n",
       "7             0.0         0.0         0.0       172.0  ...          68.0   \n",
       "9             0.0       165.0        96.0         0.0  ...           0.0   \n",
       "10            0.0        55.0       249.0       238.0  ...           0.0   \n",
       "\n",
       "       mgm4477807_3  mgm4477874_3  mgm4477904_3  mgm4477804_3  mgm4477873_3  \\\n",
       "TAXID                                                                         \n",
       "0         8820851.0     5713837.0    10238500.0     5055930.0    10380594.0   \n",
       "6             247.0         211.0         156.0         147.0         383.0   \n",
       "7             247.0         211.0         156.0         147.0         383.0   \n",
       "9               0.0           0.0           0.0           0.0           0.0   \n",
       "10              0.0           0.0           0.0           0.0           0.0   \n",
       "\n",
       "       ERR1939166  SRR3578625  ERR1939165  SRR3578645  \n",
       "TAXID                                                  \n",
       "0      13391896.0      1553.0  14802198.0       736.0  \n",
       "6          1353.0         0.0      1522.0         0.0  \n",
       "7          1353.0         0.0      1522.0         0.0  \n",
       "9            77.0         0.0        65.0         0.0  \n",
       "10          263.0         0.0       466.0         0.0  \n",
       "\n",
       "[5 rows x 432 columns]"
      ]
     },
     "execution_count": 5,
     "metadata": {},
     "output_type": "execute_result"
    }
   ],
   "source": [
    "src.head()"
   ]
  },
  {
   "cell_type": "markdown",
   "metadata": {},
   "source": [
    "The labels file contains the mapping of samples names with their actual sources"
   ]
  },
  {
   "cell_type": "code",
   "execution_count": 8,
   "metadata": {},
   "outputs": [
    {
     "data": {
      "text/html": [
       "<div>\n",
       "<style scoped>\n",
       "    .dataframe tbody tr th:only-of-type {\n",
       "        vertical-align: middle;\n",
       "    }\n",
       "\n",
       "    .dataframe tbody tr th {\n",
       "        vertical-align: top;\n",
       "    }\n",
       "\n",
       "    .dataframe thead th {\n",
       "        text-align: right;\n",
       "    }\n",
       "</style>\n",
       "<table border=\"1\" class=\"dataframe\">\n",
       "  <thead>\n",
       "    <tr style=\"text-align: right;\">\n",
       "      <th></th>\n",
       "      <th>labels</th>\n",
       "    </tr>\n",
       "  </thead>\n",
       "  <tbody>\n",
       "    <tr>\n",
       "      <th>SRR1175007</th>\n",
       "      <td>Homo_sapiens</td>\n",
       "    </tr>\n",
       "    <tr>\n",
       "      <th>SRR042182</th>\n",
       "      <td>Homo_sapiens</td>\n",
       "    </tr>\n",
       "    <tr>\n",
       "      <th>SRR061154</th>\n",
       "      <td>Homo_sapiens</td>\n",
       "    </tr>\n",
       "    <tr>\n",
       "      <th>SRR061499</th>\n",
       "      <td>Homo_sapiens</td>\n",
       "    </tr>\n",
       "    <tr>\n",
       "      <th>SRR063469</th>\n",
       "      <td>Homo_sapiens</td>\n",
       "    </tr>\n",
       "  </tbody>\n",
       "</table>\n",
       "</div>"
      ],
      "text/plain": [
       "                  labels\n",
       "SRR1175007  Homo_sapiens\n",
       "SRR042182   Homo_sapiens\n",
       "SRR061154   Homo_sapiens\n",
       "SRR061499   Homo_sapiens\n",
       "SRR063469   Homo_sapiens"
      ]
     },
     "execution_count": 8,
     "metadata": {},
     "output_type": "execute_result"
    }
   ],
   "source": [
    "labels.head()"
   ]
  },
  {
   "cell_type": "markdown",
   "metadata": {},
   "source": [
    "Here, we'll use a sink file coming for a [dog gut microbiome study](https://microbiomejournal.biomedcentral.com/articles/10.1186/s40168-018-0450-3).  \n",
    "A sink file is formatted exactly like a source file, with samples as columns headers, and the TAXID as row indices."
   ]
  },
  {
   "cell_type": "code",
   "execution_count": 11,
   "metadata": {},
   "outputs": [
    {
     "data": {
      "text/html": [
       "<div>\n",
       "<style scoped>\n",
       "    .dataframe tbody tr th:only-of-type {\n",
       "        vertical-align: middle;\n",
       "    }\n",
       "\n",
       "    .dataframe tbody tr th {\n",
       "        vertical-align: top;\n",
       "    }\n",
       "\n",
       "    .dataframe thead th {\n",
       "        text-align: right;\n",
       "    }\n",
       "</style>\n",
       "<table border=\"1\" class=\"dataframe\">\n",
       "  <thead>\n",
       "    <tr style=\"text-align: right;\">\n",
       "      <th></th>\n",
       "      <th>ERR1915662</th>\n",
       "    </tr>\n",
       "    <tr>\n",
       "      <th>TAXID</th>\n",
       "      <th></th>\n",
       "    </tr>\n",
       "  </thead>\n",
       "  <tbody>\n",
       "    <tr>\n",
       "      <th>0</th>\n",
       "      <td>1933576</td>\n",
       "    </tr>\n",
       "    <tr>\n",
       "      <th>838</th>\n",
       "      <td>61161</td>\n",
       "    </tr>\n",
       "    <tr>\n",
       "      <th>839</th>\n",
       "      <td>10783</td>\n",
       "    </tr>\n",
       "    <tr>\n",
       "      <th>28132</th>\n",
       "      <td>6691</td>\n",
       "    </tr>\n",
       "    <tr>\n",
       "      <th>28131</th>\n",
       "      <td>5961</td>\n",
       "    </tr>\n",
       "  </tbody>\n",
       "</table>\n",
       "</div>"
      ],
      "text/plain": [
       "       ERR1915662\n",
       "TAXID            \n",
       "0         1933576\n",
       "838         61161\n",
       "839         10783\n",
       "28132        6691\n",
       "28131        5961"
      ]
     },
     "execution_count": 11,
     "metadata": {},
     "output_type": "execute_result"
    }
   ],
   "source": [
    "sink = pd.read_csv(\"../data/test/dog_test_sample.csv\", index_col=0)\n",
    "sink.head()"
   ]
  },
  {
   "cell_type": "markdown",
   "metadata": {},
   "source": [
    "We'll now launch sourcepredict with the GMPR normalization method, and the t-SNE embedding, on 6 cores."
   ]
  },
  {
   "cell_type": "code",
   "execution_count": 17,
   "metadata": {},
   "outputs": [
    {
     "name": "stdout",
     "output_type": "stream",
     "text": [
      "Step 1: Checking for unknown proportion\n",
      "  == Sample: ERR1915662 ==\n",
      "\tAdding unknown\n",
      "\tNormalizing (GMPR)\n",
      "\tComputing Bray-Curtis distance\n",
      "\tPerforming MDS embedding in 2 dimensions\n",
      "\tKNN machine learning\n",
      "\tTraining KNN classifier on 6 cores...\n",
      "\t-> Testing Accuracy: 1.0\n",
      "\t----------------------\n",
      "\t- Sample: ERR1915662\n",
      "\t\t known:98.61%\n",
      "\t\t unknown:1.39%\n",
      "Step 2: Checking for source proportion\n",
      "\tComputing weighted_unifrac distance on species rank\n",
      "\tTSNE embedding in 2 dimensions\n",
      "\tKNN machine learning\n",
      "\tPerforming 5 fold cross validation on 6 cores...\n",
      "\tTrained KNN classifier with 10 neighbors\n",
      "\t-> Testing Accuracy: 0.99\n",
      "\t----------------------\n",
      "\t- Sample: ERR1915662\n",
      "\t\t Canis_familiaris:96.1%\n",
      "\t\t Homo_sapiens:2.47%\n",
      "\t\t Soil:1.43%\n",
      "Sourcepredict result written to dog_test_sample.sourcepredict.csv\n",
      "Embedding coordinates written to example_embedding.csv\n",
      "\u001b[0m"
     ]
    }
   ],
   "source": [
    "!sourcepredict -s ../data/modern_gut_microbiomes_sources.csv \\\n",
    "               -l ../data/modern_gut_microbiomes_labels.csv \\\n",
    "               -n GMPR \\\n",
    "               -m TSNE \\\n",
    "               -e example_embedding.csv \\\n",
    "               -t 6 ../data/test/dog_test_sample.csv"
   ]
  },
  {
   "cell_type": "markdown",
   "metadata": {},
   "source": [
    "Two files were generated by Sourcepredict:\n",
    "- `dog_test_sample.sourcepredict.csv` which contains the proportions of each source  \n",
    "We can see that as expected for a dog gut microbiome sample, it is mostly predicted as coming from a dog source (*Canis familiaris*)"
   ]
  },
  {
   "cell_type": "code",
   "execution_count": 19,
   "metadata": {},
   "outputs": [
    {
     "data": {
      "text/html": [
       "<div>\n",
       "<style scoped>\n",
       "    .dataframe tbody tr th:only-of-type {\n",
       "        vertical-align: middle;\n",
       "    }\n",
       "\n",
       "    .dataframe tbody tr th {\n",
       "        vertical-align: top;\n",
       "    }\n",
       "\n",
       "    .dataframe thead th {\n",
       "        text-align: right;\n",
       "    }\n",
       "</style>\n",
       "<table border=\"1\" class=\"dataframe\">\n",
       "  <thead>\n",
       "    <tr style=\"text-align: right;\">\n",
       "      <th></th>\n",
       "      <th>ERR1915662</th>\n",
       "    </tr>\n",
       "  </thead>\n",
       "  <tbody>\n",
       "    <tr>\n",
       "      <th>Canis_familiaris</th>\n",
       "      <td>0.947610</td>\n",
       "    </tr>\n",
       "    <tr>\n",
       "      <th>Homo_sapiens</th>\n",
       "      <td>0.024396</td>\n",
       "    </tr>\n",
       "    <tr>\n",
       "      <th>Soil</th>\n",
       "      <td>0.014106</td>\n",
       "    </tr>\n",
       "    <tr>\n",
       "      <th>unknown</th>\n",
       "      <td>0.013889</td>\n",
       "    </tr>\n",
       "  </tbody>\n",
       "</table>\n",
       "</div>"
      ],
      "text/plain": [
       "                  ERR1915662\n",
       "Canis_familiaris    0.947610\n",
       "Homo_sapiens        0.024396\n",
       "Soil                0.014106\n",
       "unknown             0.013889"
      ]
     },
     "execution_count": 19,
     "metadata": {},
     "output_type": "execute_result"
    }
   ],
   "source": [
    "pd.read_csv(\"dog_test_sample.sourcepredict.csv\", index_col=0)"
   ]
  },
  {
   "cell_type": "markdown",
   "metadata": {},
   "source": [
    "- `example_embedding.csv` which contains the embedding coordinates of all samples (sources and sinks)"
   ]
  },
  {
   "cell_type": "code",
   "execution_count": 20,
   "metadata": {},
   "outputs": [
    {
     "data": {
      "text/html": [
       "<div>\n",
       "<style scoped>\n",
       "    .dataframe tbody tr th:only-of-type {\n",
       "        vertical-align: middle;\n",
       "    }\n",
       "\n",
       "    .dataframe tbody tr th {\n",
       "        vertical-align: top;\n",
       "    }\n",
       "\n",
       "    .dataframe thead th {\n",
       "        text-align: right;\n",
       "    }\n",
       "</style>\n",
       "<table border=\"1\" class=\"dataframe\">\n",
       "  <thead>\n",
       "    <tr style=\"text-align: right;\">\n",
       "      <th></th>\n",
       "      <th>PC1</th>\n",
       "      <th>PC2</th>\n",
       "      <th>labels</th>\n",
       "      <th>name</th>\n",
       "    </tr>\n",
       "  </thead>\n",
       "  <tbody>\n",
       "    <tr>\n",
       "      <th>SRR1175007</th>\n",
       "      <td>-25.936980</td>\n",
       "      <td>7.392624</td>\n",
       "      <td>Homo_sapiens</td>\n",
       "      <td>SRR1175007</td>\n",
       "    </tr>\n",
       "    <tr>\n",
       "      <th>SRR042182</th>\n",
       "      <td>-19.180529</td>\n",
       "      <td>6.396648</td>\n",
       "      <td>Homo_sapiens</td>\n",
       "      <td>SRR042182</td>\n",
       "    </tr>\n",
       "    <tr>\n",
       "      <th>SRR061154</th>\n",
       "      <td>-26.551731</td>\n",
       "      <td>10.277035</td>\n",
       "      <td>Homo_sapiens</td>\n",
       "      <td>SRR061154</td>\n",
       "    </tr>\n",
       "    <tr>\n",
       "      <th>SRR061499</th>\n",
       "      <td>-22.634090</td>\n",
       "      <td>6.809382</td>\n",
       "      <td>Homo_sapiens</td>\n",
       "      <td>SRR061499</td>\n",
       "    </tr>\n",
       "    <tr>\n",
       "      <th>SRR063469</th>\n",
       "      <td>-20.179138</td>\n",
       "      <td>5.025330</td>\n",
       "      <td>Homo_sapiens</td>\n",
       "      <td>SRR063469</td>\n",
       "    </tr>\n",
       "  </tbody>\n",
       "</table>\n",
       "</div>"
      ],
      "text/plain": [
       "                  PC1        PC2        labels        name\n",
       "SRR1175007 -25.936980   7.392624  Homo_sapiens  SRR1175007\n",
       "SRR042182  -19.180529   6.396648  Homo_sapiens   SRR042182\n",
       "SRR061154  -26.551731  10.277035  Homo_sapiens   SRR061154\n",
       "SRR061499  -22.634090   6.809382  Homo_sapiens   SRR061499\n",
       "SRR063469  -20.179138   5.025330  Homo_sapiens   SRR063469"
      ]
     },
     "execution_count": 20,
     "metadata": {},
     "output_type": "execute_result"
    }
   ],
   "source": [
    "embed = pd.read_csv(\"example_embedding.csv\", index_col=0)\n",
    "embed.head()"
   ]
  },
  {
   "cell_type": "markdown",
   "metadata": {},
   "source": [
    "We can plot this embedding, using for example, [plotnine](https://plotnine.readthedocs.io/en/stable/), which implements the grammar of graphics in Python"
   ]
  },
  {
   "cell_type": "code",
   "execution_count": 25,
   "metadata": {},
   "outputs": [],
   "source": [
    "from plotnine import *\n",
    "import warnings\n",
    "warnings.filterwarnings('ignore')"
   ]
  },
  {
   "cell_type": "code",
   "execution_count": 26,
   "metadata": {},
   "outputs": [
    {
     "data": {
      "image/png": "[encoded data removed]",
      "text/plain": [
       "<Figure size 640x480 with 1 Axes>"
      ]
     },
     "metadata": {},
     "output_type": "display_data"
    },
    {
     "data": {
      "text/plain": [
       "<ggplot: (-9223372036553722059)>"
      ]
     },
     "execution_count": 26,
     "metadata": {},
     "output_type": "execute_result"
    }
   ],
   "source": [
    "ggplot(data = embed, mapping = aes(x=\"PC1\",y=\"PC2\", color=\"labels\")) + geom_point() + theme_classic()"
   ]
  },
  {
   "cell_type": "markdown",
   "metadata": {},
   "source": [
    "We can see that our Dog sink sample is well embedded with the other reference dog samples"
   ]
  }
 ],
 "metadata": {
  "kernelspec": {
   "display_name": "Python 3",
   "language": "python",
   "name": "python3"
  },
  "language_info": {
   "codemirror_mode": {
    "name": "ipython",
    "version": 3
   },
   "file_extension": ".py",
   "mimetype": "text/x-python",
   "name": "python",
   "nbconvert_exporter": "python",
   "pygments_lexer": "ipython3",
   "version": "3.6.8"
  }
 },
 "nbformat": 4,
 "nbformat_minor": 2
}
