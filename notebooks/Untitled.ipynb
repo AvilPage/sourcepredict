{
 "cells": [
  {
   "cell_type": "code",
   "execution_count": 38,
   "metadata": {},
   "outputs": [],
   "source": [
    "import umap\n",
    "import pandas as pd\n",
    "import sys\n",
    "from ete3 import NCBITaxa\n",
    "from skbio import TreeNode\n",
    "from skbio.diversity import beta_diversity\n",
    "from io import StringIO\n",
    "import plotly.plotly as py"
   ]
  },
  {
   "cell_type": "code",
   "execution_count": 6,
   "metadata": {},
   "outputs": [],
   "source": [
    "sys.path.insert(0, '../sourcepredictlib')"
   ]
  },
  {
   "cell_type": "code",
   "execution_count": 7,
   "metadata": {},
   "outputs": [],
   "source": [
    "from normalize import RLE_normalize"
   ]
  },
  {
   "cell_type": "code",
   "execution_count": 9,
   "metadata": {},
   "outputs": [],
   "source": [
    "sources = pd.read_csv(\"../data/sourcepredict_sources.csv\", index_col=0)"
   ]
  },
  {
   "cell_type": "code",
   "execution_count": 11,
   "metadata": {},
   "outputs": [],
   "source": [
    "labels = pd.read_csv(\"../data/sourcepredict_labels.csv\", index_col=0)"
   ]
  },
  {
   "cell_type": "code",
   "execution_count": 15,
   "metadata": {},
   "outputs": [],
   "source": [
    "d = RLE_normalize(sources)"
   ]
  },
  {
   "cell_type": "code",
   "execution_count": 29,
   "metadata": {},
   "outputs": [],
   "source": [
    "dt = d.T\n",
    "dt = dt.fillna(0)\n",
    "dt = dt.drop(0, 1)"
   ]
  },
  {
   "cell_type": "code",
   "execution_count": 30,
   "metadata": {},
   "outputs": [],
   "source": [
    "ncbi = NCBITaxa()\n",
    "\n",
    "only_species = []\n",
    "for i in list(dt.columns):\n",
    "  try:\n",
    "    if ncbi.get_rank([i])[i] == \"genus\":\n",
    "      only_species.append(i)\n",
    "  except KeyError:\n",
    "    continue\n",
    "    \n",
    "dt = dt.loc[:,only_species]"
   ]
  },
  {
   "cell_type": "code",
   "execution_count": 33,
   "metadata": {},
   "outputs": [],
   "source": [
    "tree = ncbi.get_topology(list(dt.columns), intermediate_nodes=False)\n",
    "newick = TreeNode.read(StringIO(tree.write()))"
   ]
  },
  {
   "cell_type": "code",
   "execution_count": 34,
   "metadata": {},
   "outputs": [],
   "source": [
    "wu = beta_diversity(\"weighted_unifrac\", dt.as_matrix() , ids = list(dt.index), otu_ids=[str(i) for i in list(dt.columns)], tree = newick)\n",
    "wu_df = wu.to_data_frame()"
   ]
  },
  {
   "cell_type": "code",
   "execution_count": 35,
   "metadata": {},
   "outputs": [],
   "source": [
    "from skbio.stats.ordination import pcoa\n",
    "wu_pc = pcoa(wu, method='fsvd', number_of_dimensions=2)\n",
    "\n",
    "wu_dist = pd.DataFrame()\n",
    "PC1 = list(wu_pc.samples.loc[:,'PC1'])\n",
    "PC2 = list(wu_pc.samples.loc[:,'PC2'])\n",
    "labs = list(labels.loc[:,'labels'])\n",
    "wu_dist['PC1'] = PC1\n",
    "wu_dist['PC2'] = PC2\n",
    "wu_dist['labs'] = labs\n",
    "wu_dist.index = labels.index"
   ]
  },
  {
   "cell_type": "code",
   "execution_count": 109,
   "metadata": {},
   "outputs": [],
   "source": [
    "import umap\n",
    "n_comp = 2\n",
    "\n",
    "my_umap = umap.UMAP(metric='precomputed', n_neighbors=30, min_dist=0.03,n_components=n_comp)\n",
    "umap_embed_a = my_umap.fit(wu.to_data_frame())\n",
    "cols = [f\"PC{i}\" for i in range(1, n_comp+1)]\n",
    "umap_embed= pd.DataFrame(umap_embed_a.embedding_, columns=cols, index = d.columns)\n",
    "umap_embed['labs'] = list(labels.loc[:,'labels'])\n",
    "umap_embed['name'] = list(labels.index)"
   ]
  },
  {
   "cell_type": "code",
   "execution_count": 98,
   "metadata": {},
   "outputs": [],
   "source": [
    "import matplotlib.pyplot as plt\n",
    "import seaborn as sns"
   ]
  },
  {
   "cell_type": "code",
   "execution_count": 99,
   "metadata": {},
   "outputs": [],
   "source": [
    "labs = list(labels['labels'])\n",
    "labs= sorted(labs)"
   ]
  },
  {
   "cell_type": "code",
   "execution_count": 104,
   "metadata": {},
   "outputs": [],
   "source": [
    "import altair as alt"
   ]
  },
  {
   "cell_type": "code",
   "execution_count": 110,
   "metadata": {},
   "outputs": [
    {
     "data": {
      "application/vnd.vegalite.v2+json": {
       "$schema": "https://vega.github.io/schema/vega-lite/v2.6.0.json",
       "config": {
        "background": "white",
        "view": {
         "height": 300,
         "width": 400
        }
       },
       "data": {
        "name": "data-f5857ed6acf29f77063bad4237fec9fe"
       },
       "datasets": {
        "data-f5857ed6acf29f77063bad4237fec9fe": [
         {
          "PC1": 220.43215942382812,
          "PC2": 225.24815368652344,
          "labs": "Canis_familiaris",
          "name": "ERR1914197"
         },
         {
          "PC1": 220.97286987304688,
          "PC2": 226.9553985595703,
          "labs": "Canis_familiaris",
          "name": "ERR1914272"
         },
         {
          "PC1": 220.80120849609375,
          "PC2": 224.62831115722656,
          "labs": "Canis_familiaris",
          "name": "ERR1914092"
         },
         {
          "PC1": 220.54623413085938,
          "PC2": 227.5072479248047,
          "labs": "Canis_familiaris",
          "name": "ERR1914908"
         },
         {
          "PC1": 220.7350616455078,
          "PC2": 224.58615112304688,
          "labs": "Canis_familiaris",
          "name": "ERR1914999"
         },
         {
          "PC1": 220.65274047851562,
          "PC2": 224.6873779296875,
          "labs": "Canis_familiaris",
          "name": "ERR1914572"
         },
         {
          "PC1": 220.71485900878906,
          "PC2": 227.4872589111328,
          "labs": "Canis_familiaris",
          "name": "ERR1914926"
         },
         {
          "PC1": 220.30502319335938,
          "PC2": 226.76974487304688,
          "labs": "Canis_familiaris",
          "name": "ERR1914242"
         },
         {
          "PC1": 220.7113037109375,
          "PC2": 226.1293487548828,
          "labs": "Canis_familiaris",
          "name": "ERR1914475"
         },
         {
          "PC1": 238.11236572265625,
          "PC2": 238.75527954101562,
          "labs": "Canis_familiaris",
          "name": "ERR1914938"
         },
         {
          "PC1": 220.6624298095703,
          "PC2": 227.58251953125,
          "labs": "Canis_familiaris",
          "name": "ERR1914917"
         },
         {
          "PC1": 220.8736572265625,
          "PC2": 227.07601928710938,
          "labs": "Canis_familiaris",
          "name": "ERR1914619"
         },
         {
          "PC1": 236.0351104736328,
          "PC2": 237.65167236328125,
          "labs": "Canis_familiaris",
          "name": "ERR1914543"
         },
         {
          "PC1": 220.8563995361328,
          "PC2": 226.26747131347656,
          "labs": "Canis_familiaris",
          "name": "ERR1914476"
         },
         {
          "PC1": 219.63262939453125,
          "PC2": 227.002685546875,
          "labs": "Canis_familiaris",
          "name": "ERR1914069"
         },
         {
          "PC1": 220.93699645996094,
          "PC2": 224.7554931640625,
          "labs": "Canis_familiaris",
          "name": "ERR1914108"
         },
         {
          "PC1": 220.5780792236328,
          "PC2": 227.54893493652344,
          "labs": "Canis_familiaris",
          "name": "ERR1914652"
         },
         {
          "PC1": 220.7995147705078,
          "PC2": 226.16773986816406,
          "labs": "Canis_familiaris",
          "name": "ERR1914484"
         },
         {
          "PC1": 219.75599670410156,
          "PC2": 227.01124572753906,
          "labs": "Canis_familiaris",
          "name": "ERR1914073"
         },
         {
          "PC1": 219.9769744873047,
          "PC2": 227.557861328125,
          "labs": "Canis_familiaris",
          "name": "ERR1914029"
         },
         {
          "PC1": 220.76124572753906,
          "PC2": 227.15789794921875,
          "labs": "Canis_familiaris",
          "name": "ERR1914262"
         },
         {
          "PC1": 220.87413024902344,
          "PC2": 224.66725158691406,
          "labs": "Canis_familiaris",
          "name": "ERR1914800"
         },
         {
          "PC1": 236.1422882080078,
          "PC2": 237.7414093017578,
          "labs": "Canis_familiaris",
          "name": "ERR1914850"
         },
         {
          "PC1": 220.70965576171875,
          "PC2": 224.5600128173828,
          "labs": "Canis_familiaris",
          "name": "ERR1914978"
         },
         {
          "PC1": 220.73831176757812,
          "PC2": 227.50146484375,
          "labs": "Canis_familiaris",
          "name": "ERR1914553"
         },
         {
          "PC1": 220.40098571777344,
          "PC2": 226.643798828125,
          "labs": "Canis_familiaris",
          "name": "ERR1914227"
         },
         {
          "PC1": 219.6396942138672,
          "PC2": 226.96144104003906,
          "labs": "Canis_familiaris",
          "name": "ERR1914065"
         },
         {
          "PC1": 220.15451049804688,
          "PC2": 227.4347686767578,
          "labs": "Canis_familiaris",
          "name": "ERR1914397"
         },
         {
          "PC1": 219.74114990234375,
          "PC2": 226.95530700683594,
          "labs": "Canis_familiaris",
          "name": "ERR1914070"
         },
         {
          "PC1": 236.05615234375,
          "PC2": 237.6760711669922,
          "labs": "Canis_familiaris",
          "name": "ERR1914166"
         },
         {
          "PC1": 220.60597229003906,
          "PC2": 227.61361694335938,
          "labs": "Canis_familiaris",
          "name": "ERR1914913"
         },
         {
          "PC1": 220.73446655273438,
          "PC2": 227.4310302734375,
          "labs": "Canis_familiaris",
          "name": "ERR1914812"
         },
         {
          "PC1": 220.9579315185547,
          "PC2": 227.0126190185547,
          "labs": "Canis_familiaris",
          "name": "ERR1914263"
         },
         {
          "PC1": 220.13087463378906,
          "PC2": 227.45858764648438,
          "labs": "Canis_familiaris",
          "name": "ERR1914034"
         },
         {
          "PC1": 220.89683532714844,
          "PC2": 224.71910095214844,
          "labs": "Canis_familiaris",
          "name": "ERR1914102"
         },
         {
          "PC1": 236.08917236328125,
          "PC2": 237.6962127685547,
          "labs": "Canis_familiaris",
          "name": "ERR1914411"
         },
         {
          "PC1": 220.8477325439453,
          "PC2": 227.05679321289062,
          "labs": "Canis_familiaris",
          "name": "ERR1914618"
         },
         {
          "PC1": 220.79347229003906,
          "PC2": 226.47967529296875,
          "labs": "Canis_familiaris",
          "name": "ERR1914003"
         },
         {
          "PC1": 236.1432342529297,
          "PC2": 237.76148986816406,
          "labs": "Canis_familiaris",
          "name": "ERR1914844"
         },
         {
          "PC1": 220.3069305419922,
          "PC2": 225.38560485839844,
          "labs": "Canis_familiaris",
          "name": "ERR1914206"
         },
         {
          "PC1": 220.35324096679688,
          "PC2": 227.26441955566406,
          "labs": "Canis_familiaris",
          "name": "ERR1914894"
         },
         {
          "PC1": 220.54136657714844,
          "PC2": 226.1785430908203,
          "labs": "Canis_familiaris",
          "name": "ERR1914609"
         },
         {
          "PC1": 220.30453491210938,
          "PC2": 226.7442626953125,
          "labs": "Canis_familiaris",
          "name": "ERR1914236"
         },
         {
          "PC1": 236.2300262451172,
          "PC2": 237.81509399414062,
          "labs": "Canis_familiaris",
          "name": "ERR1914843"
         },
         {
          "PC1": 220.5037384033203,
          "PC2": 226.11585998535156,
          "labs": "Canis_familiaris",
          "name": "ERR1914602"
         },
         {
          "PC1": 220.15753173828125,
          "PC2": 227.4439697265625,
          "labs": "Canis_familiaris",
          "name": "ERR1914723"
         },
         {
          "PC1": 220.31228637695312,
          "PC2": 227.26048278808594,
          "labs": "Canis_familiaris",
          "name": "ERR1914897"
         },
         {
          "PC1": 220.52243041992188,
          "PC2": 225.3146514892578,
          "labs": "Canis_familiaris",
          "name": "ERR1914778"
         },
         {
          "PC1": 220.7365264892578,
          "PC2": 226.4010009765625,
          "labs": "Canis_familiaris",
          "name": "ERR1914011"
         },
         {
          "PC1": 217.5396728515625,
          "PC2": 225.65423583984375,
          "labs": "Homo_sapiens",
          "name": "ERR2102825"
         },
         {
          "PC1": 217.21624755859375,
          "PC2": 225.9661407470703,
          "labs": "Homo_sapiens",
          "name": "ERR2197834"
         },
         {
          "PC1": 217.87879943847656,
          "PC2": 225.41448974609375,
          "labs": "Homo_sapiens",
          "name": "ERR2197829"
         },
         {
          "PC1": 219.87879943847656,
          "PC2": 224.25729370117188,
          "labs": "Homo_sapiens",
          "name": "ERR2102814"
         },
         {
          "PC1": 218.80563354492188,
          "PC2": 224.63414001464844,
          "labs": "Homo_sapiens",
          "name": "ERR2197818"
         },
         {
          "PC1": 217.4718475341797,
          "PC2": 225.69525146484375,
          "labs": "Homo_sapiens",
          "name": "ERR2102818"
         },
         {
          "PC1": 219.02171325683594,
          "PC2": 224.54652404785156,
          "labs": "Homo_sapiens",
          "name": "ERR2197820"
         },
         {
          "PC1": 219.6155548095703,
          "PC2": 224.52120971679688,
          "labs": "Homo_sapiens",
          "name": "ERR2102823"
         },
         {
          "PC1": 219.0780792236328,
          "PC2": 224.55970764160156,
          "labs": "Homo_sapiens",
          "name": "ERR2102810"
         },
         {
          "PC1": 218.12567138671875,
          "PC2": 225.1107940673828,
          "labs": "Homo_sapiens",
          "name": "ERR2102821"
         },
         {
          "PC1": 219.25112915039062,
          "PC2": 226.65542602539062,
          "labs": "Homo_sapiens",
          "name": "ERR2102812"
         },
         {
          "PC1": 218.5395965576172,
          "PC2": 224.90553283691406,
          "labs": "Homo_sapiens",
          "name": "ERR2102809"
         },
         {
          "PC1": 216.08253479003906,
          "PC2": 225.47946166992188,
          "labs": "Homo_sapiens",
          "name": "ERR2197827"
         },
         {
          "PC1": 219.2530975341797,
          "PC2": 224.1450653076172,
          "labs": "Homo_sapiens",
          "name": "ERR2197816"
         },
         {
          "PC1": 218.42274475097656,
          "PC2": 225.0387725830078,
          "labs": "Homo_sapiens",
          "name": "ERR2197830"
         },
         {
          "PC1": 218.42271423339844,
          "PC2": 225.1818084716797,
          "labs": "Homo_sapiens",
          "name": "ERR2197835"
         },
         {
          "PC1": 219.7550048828125,
          "PC2": 224.22959899902344,
          "labs": "Homo_sapiens",
          "name": "ERR2102815"
         },
         {
          "PC1": 216.737060546875,
          "PC2": 225.60806274414062,
          "labs": "Homo_sapiens",
          "name": "ERR2197817"
         },
         {
          "PC1": 219.10943603515625,
          "PC2": 224.34373474121094,
          "labs": "Homo_sapiens",
          "name": "ERR2197826"
         },
         {
          "PC1": 219.65879821777344,
          "PC2": 224.32321166992188,
          "labs": "Homo_sapiens",
          "name": "ERR2197833"
         },
         {
          "PC1": 218.69149780273438,
          "PC2": 224.9166259765625,
          "labs": "Homo_sapiens",
          "name": "ERR2102824"
         },
         {
          "PC1": 219.20883178710938,
          "PC2": 224.2488250732422,
          "labs": "Homo_sapiens",
          "name": "ERR2102813"
         },
         {
          "PC1": 217.1278839111328,
          "PC2": 225.89065551757812,
          "labs": "Homo_sapiens",
          "name": "ERR2197832"
         },
         {
          "PC1": 219.01243591308594,
          "PC2": 226.14608764648438,
          "labs": "Homo_sapiens",
          "name": "ERR2197822"
         },
         {
          "PC1": 219.3836669921875,
          "PC2": 224.26431274414062,
          "labs": "Homo_sapiens",
          "name": "ERR2197823"
         },
         {
          "PC1": 218.40444946289062,
          "PC2": 225.07553100585938,
          "labs": "Homo_sapiens",
          "name": "ERR2102811"
         },
         {
          "PC1": 219.76597595214844,
          "PC2": 224.18287658691406,
          "labs": "Homo_sapiens",
          "name": "ERR2197824"
         },
         {
          "PC1": 219.73800659179688,
          "PC2": 224.13067626953125,
          "labs": "Homo_sapiens",
          "name": "ERR2197825"
         },
         {
          "PC1": 217.2431640625,
          "PC2": 225.76039123535156,
          "labs": "Homo_sapiens",
          "name": "ERR2197828"
         },
         {
          "PC1": 216.1065216064453,
          "PC2": 225.44825744628906,
          "labs": "Homo_sapiens",
          "name": "ERR2102817"
         },
         {
          "PC1": 218.2211151123047,
          "PC2": 225.1232452392578,
          "labs": "Homo_sapiens",
          "name": "ERR2102820"
         },
         {
          "PC1": 218.6009979248047,
          "PC2": 224.8194580078125,
          "labs": "Homo_sapiens",
          "name": "ERR2102822"
         },
         {
          "PC1": 218.23574829101562,
          "PC2": 225.1614532470703,
          "labs": "Homo_sapiens",
          "name": "ERR2197831"
         },
         {
          "PC1": 216.91990661621094,
          "PC2": 225.83226013183594,
          "labs": "Homo_sapiens",
          "name": "ERR2102807"
         },
         {
          "PC1": 218.7386016845703,
          "PC2": 224.92428588867188,
          "labs": "Homo_sapiens",
          "name": "ERR2197821"
         },
         {
          "PC1": 217.8706512451172,
          "PC2": 225.3822021484375,
          "labs": "Homo_sapiens",
          "name": "ERR2102819"
         },
         {
          "PC1": 219.01890563964844,
          "PC2": 224.34979248046875,
          "labs": "Homo_sapiens",
          "name": "ERR2102808"
         },
         {
          "PC1": 219.3935546875,
          "PC2": 224.1726837158203,
          "labs": "Homo_sapiens",
          "name": "ERR2197819"
         },
         {
          "PC1": 215.82778930664062,
          "PC2": 225.21031188964844,
          "labs": "Homo_sapiens",
          "name": "ERR2102806"
         },
         {
          "PC1": 219.28921508789062,
          "PC2": 224.41131591796875,
          "labs": "Homo_sapiens",
          "name": "ERR2102816"
         },
         {
          "PC1": 236.87664794921875,
          "PC2": 238.47784423828125,
          "labs": "Sus_scrofa",
          "name": "ERR1135436"
         },
         {
          "PC1": 237.45120239257812,
          "PC2": 238.58413696289062,
          "labs": "Sus_scrofa",
          "name": "ERR1135452"
         },
         {
          "PC1": 236.59286499023438,
          "PC2": 238.01258850097656,
          "labs": "Sus_scrofa",
          "name": "ERR1135466"
         },
         {
          "PC1": 237.00827026367188,
          "PC2": 238.5940399169922,
          "labs": "Sus_scrofa",
          "name": "ERR1135422"
         },
         {
          "PC1": 238.75328063964844,
          "PC2": 237.97366333007812,
          "labs": "Sus_scrofa",
          "name": "ERR1135271"
         },
         {
          "PC1": 238.50672912597656,
          "PC2": 237.7415771484375,
          "labs": "Sus_scrofa",
          "name": "ERR1135294"
         },
         {
          "PC1": 236.67022705078125,
          "PC2": 238.32740783691406,
          "labs": "Sus_scrofa",
          "name": "ERR1135461"
         },
         {
          "PC1": 238.69422912597656,
          "PC2": 238.57354736328125,
          "labs": "Sus_scrofa",
          "name": "ERR1135298"
         },
         {
          "PC1": 237.81642150878906,
          "PC2": 238.6166534423828,
          "labs": "Sus_scrofa",
          "name": "ERR1135213"
         },
         {
          "PC1": 237.08355712890625,
          "PC2": 238.4012908935547,
          "labs": "Sus_scrofa",
          "name": "ERR1135421"
         },
         {
          "PC1": 238.533203125,
          "PC2": 237.54713439941406,
          "labs": "Sus_scrofa",
          "name": "ERR1135221"
         },
         {
          "PC1": 238.42800903320312,
          "PC2": 237.99429321289062,
          "labs": "Sus_scrofa",
          "name": "ERR1135344"
         },
         {
          "PC1": 236.9619903564453,
          "PC2": 237.79522705078125,
          "labs": "Sus_scrofa",
          "name": "ERR1135260"
         },
         {
          "PC1": 238.07762145996094,
          "PC2": 237.65589904785156,
          "labs": "Sus_scrofa",
          "name": "ERR1135323"
         },
         {
          "PC1": 238.43411254882812,
          "PC2": 238.68460083007812,
          "labs": "Sus_scrofa",
          "name": "ERR1135285"
         },
         {
          "PC1": 238.31004333496094,
          "PC2": 237.92288208007812,
          "labs": "Sus_scrofa",
          "name": "ERR1135220"
         },
         {
          "PC1": 237.3623504638672,
          "PC2": 238.41038513183594,
          "labs": "Sus_scrofa",
          "name": "ERR1135389"
         },
         {
          "PC1": 236.60072326660156,
          "PC2": 237.96942138671875,
          "labs": "Sus_scrofa",
          "name": "ERR1135397"
         },
         {
          "PC1": 236.87527465820312,
          "PC2": 238.19418334960938,
          "labs": "Sus_scrofa",
          "name": "ERR1135470"
         },
         {
          "PC1": 236.81874084472656,
          "PC2": 237.82815551757812,
          "labs": "Sus_scrofa",
          "name": "ERR1135382"
         },
         {
          "PC1": 237.9803924560547,
          "PC2": 237.5528106689453,
          "labs": "Sus_scrofa",
          "name": "ERR1135305"
         },
         {
          "PC1": 237.97637939453125,
          "PC2": 238.48977661132812,
          "labs": "Sus_scrofa",
          "name": "ERR1135370"
         },
         {
          "PC1": 238.4427947998047,
          "PC2": 238.6147918701172,
          "labs": "Sus_scrofa",
          "name": "ERR1135286"
         },
         {
          "PC1": 237.13555908203125,
          "PC2": 238.15550231933594,
          "labs": "Sus_scrofa",
          "name": "ERR1135432"
         },
         {
          "PC1": 238.17564392089844,
          "PC2": 238.41241455078125,
          "labs": "Sus_scrofa",
          "name": "ERR1135265"
         },
         {
          "PC1": 238.0537109375,
          "PC2": 237.28477478027344,
          "labs": "Sus_scrofa",
          "name": "ERR1135232"
         },
         {
          "PC1": 238.2431640625,
          "PC2": 237.8253173828125,
          "labs": "Sus_scrofa",
          "name": "ERR1135295"
         },
         {
          "PC1": 236.95291137695312,
          "PC2": 238.53314208984375,
          "labs": "Sus_scrofa",
          "name": "ERR1135431"
         },
         {
          "PC1": 238.79782104492188,
          "PC2": 238.59686279296875,
          "labs": "Sus_scrofa",
          "name": "ERR1135302"
         },
         {
          "PC1": 238.5912628173828,
          "PC2": 238.19338989257812,
          "labs": "Sus_scrofa",
          "name": "ERR1135336"
         },
         {
          "PC1": 238.1182861328125,
          "PC2": 238.51344299316406,
          "labs": "Sus_scrofa",
          "name": "ERR1135355"
         },
         {
          "PC1": 238.25411987304688,
          "PC2": 238.7278289794922,
          "labs": "Sus_scrofa",
          "name": "ERR1135357"
         },
         {
          "PC1": 238.66363525390625,
          "PC2": 238.35772705078125,
          "labs": "Sus_scrofa",
          "name": "ERR1135301"
         },
         {
          "PC1": 238.0830841064453,
          "PC2": 237.9452362060547,
          "labs": "Sus_scrofa",
          "name": "ERR1135312"
         },
         {
          "PC1": 237.2470245361328,
          "PC2": 238.27130126953125,
          "labs": "Sus_scrofa",
          "name": "ERR1135445"
         },
         {
          "PC1": 238.20130920410156,
          "PC2": 237.28709411621094,
          "labs": "Sus_scrofa",
          "name": "ERR1135228"
         },
         {
          "PC1": 236.6460723876953,
          "PC2": 237.84205627441406,
          "labs": "Sus_scrofa",
          "name": "ERR1135402"
         },
         {
          "PC1": 238.1626739501953,
          "PC2": 237.2825469970703,
          "labs": "Sus_scrofa",
          "name": "ERR1135227"
         },
         {
          "PC1": 236.7203826904297,
          "PC2": 238.02804565429688,
          "labs": "Sus_scrofa",
          "name": "ERR1135460"
         },
         {
          "PC1": 236.931640625,
          "PC2": 237.74630737304688,
          "labs": "Sus_scrofa",
          "name": "ERR1135193"
         },
         {
          "PC1": 237.80032348632812,
          "PC2": 238.46743774414062,
          "labs": "Sus_scrofa",
          "name": "ERR1135353"
         },
         {
          "PC1": 236.6509552001953,
          "PC2": 238.15870666503906,
          "labs": "Sus_scrofa",
          "name": "ERR1135450"
         },
         {
          "PC1": 237.4848175048828,
          "PC2": 238.21133422851562,
          "labs": "Sus_scrofa",
          "name": "ERR1135198"
         },
         {
          "PC1": 238.4293975830078,
          "PC2": 238.49856567382812,
          "labs": "Sus_scrofa",
          "name": "ERR1135183"
         },
         {
          "PC1": 236.73876953125,
          "PC2": 238.46612548828125,
          "labs": "Sus_scrofa",
          "name": "ERR1135418"
         },
         {
          "PC1": 238.1748809814453,
          "PC2": 237.78048706054688,
          "labs": "Sus_scrofa",
          "name": "ERR1135257"
         },
         {
          "PC1": 238.1310272216797,
          "PC2": 237.28456115722656,
          "labs": "Sus_scrofa",
          "name": "ERR1135224"
         },
         {
          "PC1": 238.65647888183594,
          "PC2": 238.23851013183594,
          "labs": "Sus_scrofa",
          "name": "ERR1135274"
         },
         {
          "PC1": 237.57167053222656,
          "PC2": 238.2317352294922,
          "labs": "Sus_scrofa",
          "name": "ERR1135190"
         },
         {
          "PC1": 238.10047912597656,
          "PC2": 238.1761474609375,
          "labs": "Sus_scrofa",
          "name": "ERR1135335"
         },
         {
          "PC1": 238.61077880859375,
          "PC2": 238.21763610839844,
          "labs": "Sus_scrofa",
          "name": "ERR1135330"
         },
         {
          "PC1": 237.2235565185547,
          "PC2": 237.6915740966797,
          "labs": "Sus_scrofa",
          "name": "ERR1135292"
         },
         {
          "PC1": 236.98220825195312,
          "PC2": 237.9716339111328,
          "labs": "Sus_scrofa",
          "name": "ERR1135192"
         },
         {
          "PC1": 214.8036651611328,
          "PC2": 226.70272827148438,
          "labs": "Homo_sapiens",
          "name": "SRR1175007"
         },
         {
          "PC1": 215.8251953125,
          "PC2": 225.53927612304688,
          "labs": "Homo_sapiens",
          "name": "SRR042182"
         },
         {
          "PC1": 214.57888793945312,
          "PC2": 226.73086547851562,
          "labs": "Homo_sapiens",
          "name": "SRR061154"
         },
         {
          "PC1": 215.74916076660156,
          "PC2": 225.4510040283203,
          "labs": "Homo_sapiens",
          "name": "SRR061499"
         },
         {
          "PC1": 216.614013671875,
          "PC2": 226.02525329589844,
          "labs": "Homo_sapiens",
          "name": "SRR063469"
         },
         {
          "PC1": 215.1018524169922,
          "PC2": 226.5597381591797,
          "labs": "Homo_sapiens",
          "name": "SRR062324"
         },
         {
          "PC1": 214.77935791015625,
          "PC2": 227.01844787597656,
          "labs": "Homo_sapiens",
          "name": "SRR1179037"
         },
         {
          "PC1": 214.604248046875,
          "PC2": 226.76026916503906,
          "labs": "Homo_sapiens",
          "name": "SRR061236"
         },
         {
          "PC1": 214.5223388671875,
          "PC2": 226.76785278320312,
          "labs": "Homo_sapiens",
          "name": "SRR061456"
         },
         {
          "PC1": 215.33413696289062,
          "PC2": 226.24876403808594,
          "labs": "Homo_sapiens",
          "name": "SRR642021"
         },
         {
          "PC1": 216.26234436035156,
          "PC2": 225.92286682128906,
          "labs": "Homo_sapiens",
          "name": "SRR1175013"
         },
         {
          "PC1": 216.23052978515625,
          "PC2": 225.5225067138672,
          "labs": "Homo_sapiens",
          "name": "SRR062457"
         },
         {
          "PC1": 215.8854217529297,
          "PC2": 225.66587829589844,
          "labs": "Homo_sapiens",
          "name": "SRR062447"
         },
         {
          "PC1": 216.58953857421875,
          "PC2": 225.7886199951172,
          "labs": "Homo_sapiens",
          "name": "SRR1179031"
         },
         {
          "PC1": 216.19577026367188,
          "PC2": 225.36358642578125,
          "labs": "Homo_sapiens",
          "name": "SRR062375"
         },
         {
          "PC1": 215.6037139892578,
          "PC2": 225.93019104003906,
          "labs": "Homo_sapiens",
          "name": "SRR1179053"
         },
         {
          "PC1": 215.6149139404297,
          "PC2": 226.01600646972656,
          "labs": "Homo_sapiens",
          "name": "SRR1179033"
         },
         {
          "PC1": 214.9690399169922,
          "PC2": 226.75900268554688,
          "labs": "Homo_sapiens",
          "name": "SRR061140"
         },
         {
          "PC1": 219.32861328125,
          "PC2": 224.77706909179688,
          "labs": "Homo_sapiens",
          "name": "SRR646449"
         },
         {
          "PC1": 214.59593200683594,
          "PC2": 226.92530822753906,
          "labs": "Homo_sapiens",
          "name": "SRR063471"
         },
         {
          "PC1": 216.7566680908203,
          "PC2": 225.66238403320312,
          "labs": "Homo_sapiens",
          "name": "SRR059440"
         },
         {
          "PC1": 214.54452514648438,
          "PC2": 226.70216369628906,
          "labs": "Homo_sapiens",
          "name": "SRR061254"
         },
         {
          "PC1": 214.59878540039062,
          "PC2": 226.6931610107422,
          "labs": "Homo_sapiens",
          "name": "SRR059388"
         },
         {
          "PC1": 214.74134826660156,
          "PC2": 226.85186767578125,
          "labs": "Homo_sapiens",
          "name": "SRR059354"
         },
         {
          "PC1": 214.72926330566406,
          "PC2": 226.83473205566406,
          "labs": "Homo_sapiens",
          "name": "SRR061556"
         },
         {
          "PC1": 216.5386199951172,
          "PC2": 225.67274475097656,
          "labs": "Homo_sapiens",
          "name": "SRR1179049"
         },
         {
          "PC1": 216.55039978027344,
          "PC2": 225.78652954101562,
          "labs": "Homo_sapiens",
          "name": "SRR1175001"
         },
         {
          "PC1": 215.9144744873047,
          "PC2": 225.51080322265625,
          "labs": "Homo_sapiens",
          "name": "SRR062388"
         },
         {
          "PC1": 215.7526092529297,
          "PC2": 225.37184143066406,
          "labs": "Homo_sapiens",
          "name": "SRR346691"
         },
         {
          "PC1": 216.1937713623047,
          "PC2": 225.90548706054688,
          "labs": "Homo_sapiens",
          "name": "SRR1179027"
         },
         {
          "PC1": 215.83969116210938,
          "PC2": 225.51930236816406,
          "labs": "Homo_sapiens",
          "name": "SRR059395"
         },
         {
          "PC1": 216.1745147705078,
          "PC2": 225.84555053710938,
          "labs": "Homo_sapiens",
          "name": "SRR1179043"
         },
         {
          "PC1": 215.66200256347656,
          "PC2": 225.99183654785156,
          "labs": "Homo_sapiens",
          "name": "SRR1175003"
         },
         {
          "PC1": 219.2404022216797,
          "PC2": 224.70799255371094,
          "labs": "Homo_sapiens",
          "name": "SRR646438"
         },
         {
          "PC1": 214.7933349609375,
          "PC2": 226.82882690429688,
          "labs": "Homo_sapiens",
          "name": "SRR1179046"
         },
         {
          "PC1": 215.39041137695312,
          "PC2": 226.293701171875,
          "labs": "Homo_sapiens",
          "name": "SRR642022"
         }
        ]
       },
       "encoding": {
        "color": {
         "field": "labs",
         "type": "nominal"
        },
        "tooltip": [
         {
          "field": "labs",
          "type": "nominal"
         },
         {
          "field": "name",
          "type": "nominal"
         }
        ],
        "x": {
         "field": "PC1",
         "type": "quantitative"
        },
        "y": {
         "field": "PC2",
         "type": "quantitative"
        }
       },
       "mark": {
        "size": 60,
        "type": "circle"
       },
       "selection": {
        "selector003": {
         "bind": "scales",
         "encodings": [
          "x",
          "y"
         ],
         "mark": {
          "fill": "#333",
          "fillOpacity": 0.125,
          "stroke": "white"
         },
         "on": "[mousedown, window:mouseup] > window:mousemove!",
         "resolve": "global",
         "translate": "[mousedown, window:mouseup] > window:mousemove!",
         "type": "interval",
         "zoom": "wheel!"
        }
       }
      },
      "image/png": "[encoded data removed]",
      "text/plain": [
       "<VegaLite 2 object>\n",
       "\n",
       "If you see this message, it means the renderer has not been properly enabled\n",
       "for the frontend that you are using. For more information, see\n",
       "https://altair-viz.github.io/user_guide/troubleshooting.html\n"
      ]
     },
     "execution_count": 110,
     "metadata": {},
     "output_type": "execute_result"
    }
   ],
   "source": [
    "alt.Chart(umap_embed).mark_circle(size=60).encode(x = 'PC1', y = 'PC2', color='labs', tooltip = ['labs','name']).configure(background = \"white\").interactive()"
   ]
  },
  {
   "cell_type": "code",
   "execution_count": 111,
   "metadata": {},
   "outputs": [
    {
     "data": {
      "image/png": "[encoded data removed]",
      "text/plain": [
       "<Figure size 432x288 with 1 Axes>"
      ]
     },
     "metadata": {
      "needs_background": "light"
     },
     "output_type": "display_data"
    }
   ],
   "source": [
    "fg = sns.scatterplot(x=umap_embed.loc[:,'PC1'],y=umap_embed.loc[:,'PC2'], hue=umap_embed.loc[:,'labs'],hue_order=labs)\n",
    "plt.legend(bbox_to_anchor=(1.05, 1), loc=2, borderaxespad=0)\n",
    "plt.title(f\"UMAP\")\n",
    "fg = fg.get_figure()"
   ]
  },
  {
   "cell_type": "code",
   "execution_count": 101,
   "metadata": {},
   "outputs": [],
   "source": [
    "from sklearn.model_selection import train_test_split, GridSearchCV\n",
    "from sklearn.pipeline import Pipeline\n",
    "from sklearn.svm import LinearSVC\n",
    "from umap import UMAP"
   ]
  },
  {
   "cell_type": "code",
   "execution_count": 102,
   "metadata": {},
   "outputs": [],
   "source": [
    "X_train, X_test, y_train, y_test = train_test_split(umap_embed.drop('labs',axis=1), umap_embed.loc[:,\"labs\"], test_size=0.2, random_state=42)"
   ]
  },
  {
   "cell_type": "code",
   "execution_count": 103,
   "metadata": {},
   "outputs": [
    {
     "name": "stdout",
     "output_type": "stream",
     "text": [
      "Accuracy on the test set with raw data: 0.806\n"
     ]
    },
    {
     "name": "stderr",
     "output_type": "stream",
     "text": [
      "/Users/borry/miniconda3/lib/python3.6/site-packages/sklearn/model_selection/_search.py:841: DeprecationWarning:\n",
      "\n",
      "The default of the `iid` parameter will change from True to False in version 0.22 and will be removed in 0.24. This will change numeric results when test-set sizes are unequal.\n",
      "\n"
     ]
    }
   ],
   "source": [
    "# Classification with a linear SVM\n",
    "svc = LinearSVC(dual=False, random_state=123)\n",
    "params_grid = {\"C\": [10**k for k in range(-3, 4)]}\n",
    "clf = GridSearchCV(svc, params_grid, cv = 5)\n",
    "clf.fit(X_train, y_train)\n",
    "print(\"Accuracy on the test set with raw data: {:.3f}\".format(clf.score(X_test, y_test)))"
   ]
  }
 ],
 "metadata": {
  "kernelspec": {
   "display_name": "Python 3",
   "language": "python",
   "name": "python3"
  },
  "language_info": {
   "codemirror_mode": {
    "name": "ipython",
    "version": 3
   },
   "file_extension": ".py",
   "mimetype": "text/x-python",
   "name": "python",
   "nbconvert_exporter": "python",
   "pygments_lexer": "ipython3",
   "version": "3.6.8"
  }
 },
 "nbformat": 4,
 "nbformat_minor": 2
}
