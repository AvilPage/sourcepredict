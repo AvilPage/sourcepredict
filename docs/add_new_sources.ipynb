{
 "cells": [
  {
   "cell_type": "markdown",
   "metadata": {},
   "source": [
    "## Adding new sources to an existing source file"
   ]
  },
  {
   "cell_type": "code",
   "execution_count": 1,
   "metadata": {},
   "outputs": [],
   "source": [
    "import pandas as pd\n",
    "import numpy as np"
   ]
  },
  {
   "cell_type": "code",
   "execution_count": 24,
   "metadata": {},
   "outputs": [],
   "source": [
    "def add_new_data(old_data, new_data, old_labels, label):\n",
    "    \"\"\"\n",
    "    Update the sourcepredict learning table\n",
    "    INPUT:\n",
    "        old_data(str): path to csv file of existing sourcepredict source data table\n",
    "        new_data(str): path to csv file of new TAXID count table, with TAXID as 1st column\n",
    "        old_labels(str): path to sourcepredict csv file of labels\n",
    "        label(str): scientific name of new sample's specie. Example: 'Sus_scrofa'\n",
    "    OUTPUT:\n",
    "        merged(pd.DataFrame): merged old and new source data table for sourcepredict\n",
    "        labels(pd.DataFrame): updated labels data table\n",
    "    \"\"\"\n",
    "    old = pd.read_csv(old_data, index_col=0)\n",
    "    old = old.drop(['labels'], axis = 0)\n",
    "    new = pd.read_csv(new_data)\n",
    "    merged = pd.merge(left=old, right=new, how='outer', on='TAXID')\n",
    "    merged = merged.fillna(0)\n",
    "    old_labels = pd.read_csv(old_labels, index_col=0)\n",
    "    new_labels = pd.DataFrame([label]*(new.shape[1]-1), new.columns[1:])\n",
    "    new_labels.columns=['labels']\n",
    "    labels = old_labels.append(new_labels)\n",
    "    return(merged, labels)"
   ]
  },
  {
   "cell_type": "code",
   "execution_count": 30,
   "metadata": {},
   "outputs": [],
   "source": [
    "labs = add_new_data(old_data=old_data, new_data=new_data, old_labels=old_labels, label=label)[1]"
   ]
  },
  {
   "cell_type": "code",
   "execution_count": 31,
   "metadata": {},
   "outputs": [],
   "source": [
    "labs.to_csv(\"new_sources.csv\")"
   ]
  }
 ],
 "metadata": {
  "kernelspec": {
   "display_name": "Python 3",
   "language": "python",
   "name": "python3"
  },
  "language_info": {
   "codemirror_mode": {
    "name": "ipython",
    "version": 3
   },
   "file_extension": ".py",
   "mimetype": "text/x-python",
   "name": "python",
   "nbconvert_exporter": "python",
   "pygments_lexer": "ipython3",
   "version": "3.6.8"
  }
 },
 "nbformat": 4,
 "nbformat_minor": 2
}
