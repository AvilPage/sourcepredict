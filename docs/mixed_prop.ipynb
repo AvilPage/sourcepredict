{
 "cells": [
  {
   "cell_type": "markdown",
   "metadata": {},
   "source": [
    "# Sourcepredict example2: Estimating source proportions"
   ]
  },
  {
   "cell_type": "markdown",
   "metadata": {},
   "source": [
    "For this example, we'll reuse the dog, human, and soil dataset.  \n",
    "But unlike [example1](https://sourcepredict.readthedocs.io/en/latest/run_example.html), here we will mix samples from different sources and estimate the mixing proportions with Sourcepredict and Sourcetracker2"
   ]
  },
  {
   "cell_type": "markdown",
   "metadata": {},
   "source": [
    "## Preparing mixed samples"
   ]
  },
  {
   "cell_type": "code",
   "execution_count": 1,
   "metadata": {},
   "outputs": [],
   "source": [
    "import pandas as pd\n",
    "from plotnine import *\n",
    "import numpy as np"
   ]
  },
  {
   "cell_type": "code",
   "execution_count": 2,
   "metadata": {},
   "outputs": [],
   "source": [
    "cnt = pd.read_csv(\"../data/modern_gut_microbiomes_sources.csv\", index_col=0)\n",
    "labels = pd.read_csv(\"../data/modern_gut_microbiomes_labels.csv\",index_col=0)"
   ]
  },
  {
   "cell_type": "markdown",
   "metadata": {},
   "source": [
    "As in example 1, we'll first split the dataset into training (95%) and testing(5%)"
   ]
  },
  {
   "cell_type": "code",
   "execution_count": 3,
   "metadata": {},
   "outputs": [],
   "source": [
    "cnt_train = cnt.sample(frac=0.95, axis=1, random_state=42)\n",
    "cnt_test = cnt.drop(cnt_train.columns, axis=1)\n",
    "train_labels = labels.loc[cnt_train.columns,:]\n",
    "test_labels = labels.loc[cnt_test.columns,:]"
   ]
  },
  {
   "cell_type": "code",
   "execution_count": 4,
   "metadata": {},
   "outputs": [
    {
     "data": {
      "text/plain": [
       "Homo_sapiens        13\n",
       "Canis_familiaris     8\n",
       "Soil                 1\n",
       "Name: labels, dtype: int64"
      ]
     },
     "execution_count": 4,
     "metadata": {},
     "output_type": "execute_result"
    }
   ],
   "source": [
    "test_labels['labels'].value_counts()"
   ]
  },
  {
   "cell_type": "code",
   "execution_count": 5,
   "metadata": {},
   "outputs": [
    {
     "data": {
      "text/html": [
       "<div>\n",
       "<style scoped>\n",
       "    .dataframe tbody tr th:only-of-type {\n",
       "        vertical-align: middle;\n",
       "    }\n",
       "\n",
       "    .dataframe tbody tr th {\n",
       "        vertical-align: top;\n",
       "    }\n",
       "\n",
       "    .dataframe thead th {\n",
       "        text-align: right;\n",
       "    }\n",
       "</style>\n",
       "<table border=\"1\" class=\"dataframe\">\n",
       "  <thead>\n",
       "    <tr style=\"text-align: right;\">\n",
       "      <th></th>\n",
       "      <th>SRR059440</th>\n",
       "      <th>SRR1930140</th>\n",
       "      <th>SRR1761708</th>\n",
       "      <th>SRR1761664</th>\n",
       "      <th>SRR1761667</th>\n",
       "      <th>SRR1761674</th>\n",
       "      <th>SRR7658684</th>\n",
       "      <th>SRR7658622</th>\n",
       "      <th>SRR7658689</th>\n",
       "      <th>SRR7658619</th>\n",
       "      <th>...</th>\n",
       "      <th>SRR5898940</th>\n",
       "      <th>ERR1914224</th>\n",
       "      <th>ERR1915611</th>\n",
       "      <th>ERR1915293</th>\n",
       "      <th>ERR1914207</th>\n",
       "      <th>ERR1915420</th>\n",
       "      <th>ERR1916218</th>\n",
       "      <th>ERR1913675</th>\n",
       "      <th>ERR1914667</th>\n",
       "      <th>SRR3578645</th>\n",
       "    </tr>\n",
       "    <tr>\n",
       "      <th>TAXID</th>\n",
       "      <th></th>\n",
       "      <th></th>\n",
       "      <th></th>\n",
       "      <th></th>\n",
       "      <th></th>\n",
       "      <th></th>\n",
       "      <th></th>\n",
       "      <th></th>\n",
       "      <th></th>\n",
       "      <th></th>\n",
       "      <th></th>\n",
       "      <th></th>\n",
       "      <th></th>\n",
       "      <th></th>\n",
       "      <th></th>\n",
       "      <th></th>\n",
       "      <th></th>\n",
       "      <th></th>\n",
       "      <th></th>\n",
       "      <th></th>\n",
       "      <th></th>\n",
       "    </tr>\n",
       "  </thead>\n",
       "  <tbody>\n",
       "    <tr>\n",
       "      <th>0</th>\n",
       "      <td>19805534.0</td>\n",
       "      <td>7267728.0</td>\n",
       "      <td>18530434.0</td>\n",
       "      <td>2460493.0</td>\n",
       "      <td>3324349.0</td>\n",
       "      <td>2835521.0</td>\n",
       "      <td>5565044.0</td>\n",
       "      <td>18783402.0</td>\n",
       "      <td>6319253.0</td>\n",
       "      <td>18641694.0</td>\n",
       "      <td>...</td>\n",
       "      <td>1658949.0</td>\n",
       "      <td>3442424.0</td>\n",
       "      <td>1529589.0</td>\n",
       "      <td>1765224.0</td>\n",
       "      <td>1815426.0</td>\n",
       "      <td>1364019.0</td>\n",
       "      <td>1558043.0</td>\n",
       "      <td>1617964.0</td>\n",
       "      <td>1557538.0</td>\n",
       "      <td>736.0</td>\n",
       "    </tr>\n",
       "    <tr>\n",
       "      <th>6</th>\n",
       "      <td>0.0</td>\n",
       "      <td>0.0</td>\n",
       "      <td>85.0</td>\n",
       "      <td>0.0</td>\n",
       "      <td>0.0</td>\n",
       "      <td>0.0</td>\n",
       "      <td>0.0</td>\n",
       "      <td>542.0</td>\n",
       "      <td>0.0</td>\n",
       "      <td>217.0</td>\n",
       "      <td>...</td>\n",
       "      <td>0.0</td>\n",
       "      <td>0.0</td>\n",
       "      <td>0.0</td>\n",
       "      <td>0.0</td>\n",
       "      <td>0.0</td>\n",
       "      <td>0.0</td>\n",
       "      <td>0.0</td>\n",
       "      <td>0.0</td>\n",
       "      <td>0.0</td>\n",
       "      <td>0.0</td>\n",
       "    </tr>\n",
       "    <tr>\n",
       "      <th>7</th>\n",
       "      <td>0.0</td>\n",
       "      <td>0.0</td>\n",
       "      <td>85.0</td>\n",
       "      <td>0.0</td>\n",
       "      <td>0.0</td>\n",
       "      <td>0.0</td>\n",
       "      <td>0.0</td>\n",
       "      <td>542.0</td>\n",
       "      <td>0.0</td>\n",
       "      <td>217.0</td>\n",
       "      <td>...</td>\n",
       "      <td>0.0</td>\n",
       "      <td>0.0</td>\n",
       "      <td>0.0</td>\n",
       "      <td>0.0</td>\n",
       "      <td>0.0</td>\n",
       "      <td>0.0</td>\n",
       "      <td>0.0</td>\n",
       "      <td>0.0</td>\n",
       "      <td>0.0</td>\n",
       "      <td>0.0</td>\n",
       "    </tr>\n",
       "    <tr>\n",
       "      <th>9</th>\n",
       "      <td>239.0</td>\n",
       "      <td>88.0</td>\n",
       "      <td>115.0</td>\n",
       "      <td>55.0</td>\n",
       "      <td>189.0</td>\n",
       "      <td>91.0</td>\n",
       "      <td>72.0</td>\n",
       "      <td>100.0</td>\n",
       "      <td>152.0</td>\n",
       "      <td>209.0</td>\n",
       "      <td>...</td>\n",
       "      <td>0.0</td>\n",
       "      <td>51.0</td>\n",
       "      <td>69.0</td>\n",
       "      <td>60.0</td>\n",
       "      <td>56.0</td>\n",
       "      <td>106.0</td>\n",
       "      <td>51.0</td>\n",
       "      <td>69.0</td>\n",
       "      <td>62.0</td>\n",
       "      <td>0.0</td>\n",
       "    </tr>\n",
       "    <tr>\n",
       "      <th>10</th>\n",
       "      <td>163.0</td>\n",
       "      <td>177.0</td>\n",
       "      <td>112.0</td>\n",
       "      <td>76.0</td>\n",
       "      <td>164.0</td>\n",
       "      <td>109.0</td>\n",
       "      <td>220.0</td>\n",
       "      <td>84.0</td>\n",
       "      <td>180.0</td>\n",
       "      <td>175.0</td>\n",
       "      <td>...</td>\n",
       "      <td>0.0</td>\n",
       "      <td>202.0</td>\n",
       "      <td>80.0</td>\n",
       "      <td>67.0</td>\n",
       "      <td>73.0</td>\n",
       "      <td>0.0</td>\n",
       "      <td>80.0</td>\n",
       "      <td>77.0</td>\n",
       "      <td>110.0</td>\n",
       "      <td>0.0</td>\n",
       "    </tr>\n",
       "  </tbody>\n",
       "</table>\n",
       "<p>5 rows × 22 columns</p>\n",
       "</div>"
      ],
      "text/plain": [
       "        SRR059440  SRR1930140  SRR1761708  SRR1761664  SRR1761667  SRR1761674  \\\n",
       "TAXID                                                                           \n",
       "0      19805534.0   7267728.0  18530434.0   2460493.0   3324349.0   2835521.0   \n",
       "6             0.0         0.0        85.0         0.0         0.0         0.0   \n",
       "7             0.0         0.0        85.0         0.0         0.0         0.0   \n",
       "9           239.0        88.0       115.0        55.0       189.0        91.0   \n",
       "10          163.0       177.0       112.0        76.0       164.0       109.0   \n",
       "\n",
       "       SRR7658684  SRR7658622  SRR7658689  SRR7658619  ...  SRR5898940  \\\n",
       "TAXID                                                  ...               \n",
       "0       5565044.0  18783402.0   6319253.0  18641694.0  ...   1658949.0   \n",
       "6             0.0       542.0         0.0       217.0  ...         0.0   \n",
       "7             0.0       542.0         0.0       217.0  ...         0.0   \n",
       "9            72.0       100.0       152.0       209.0  ...         0.0   \n",
       "10          220.0        84.0       180.0       175.0  ...         0.0   \n",
       "\n",
       "       ERR1914224  ERR1915611  ERR1915293  ERR1914207  ERR1915420  ERR1916218  \\\n",
       "TAXID                                                                           \n",
       "0       3442424.0   1529589.0   1765224.0   1815426.0   1364019.0   1558043.0   \n",
       "6             0.0         0.0         0.0         0.0         0.0         0.0   \n",
       "7             0.0         0.0         0.0         0.0         0.0         0.0   \n",
       "9            51.0        69.0        60.0        56.0       106.0        51.0   \n",
       "10          202.0        80.0        67.0        73.0         0.0        80.0   \n",
       "\n",
       "       ERR1913675  ERR1914667  SRR3578645  \n",
       "TAXID                                      \n",
       "0       1617964.0   1557538.0       736.0  \n",
       "6             0.0         0.0         0.0  \n",
       "7             0.0         0.0         0.0  \n",
       "9            69.0        62.0         0.0  \n",
       "10           77.0       110.0         0.0  \n",
       "\n",
       "[5 rows x 22 columns]"
      ]
     },
     "execution_count": 5,
     "metadata": {},
     "output_type": "execute_result"
    }
   ],
   "source": [
    "cnt_test.head()"
   ]
  },
  {
   "cell_type": "markdown",
   "metadata": {},
   "source": [
    "We then create a function to randomly select a sample from each source (dog as $s_{dog}$ and human as $s_{human}$), and combine such as the new sample $s_{mixed} = p1*s_{dog} + p1*s_{human}$"
   ]
  },
  {
   "cell_type": "code",
   "execution_count": 6,
   "metadata": {},
   "outputs": [],
   "source": [
    "def create_mixed_sample(cnt, labels, p1, samp_name, seed):\n",
    "    rand_dog = labels.query('labels == \"Canis_familiaris\"').sample(1, random_state = seed).index[0]\n",
    "    rand_human = labels.query('labels == \"Homo_sapiens\"').sample(1, random_state = seed).index[0]\n",
    "    dog_samp = cnt[rand_dog]*p1\n",
    "    human_samp = cnt[rand_human]*(1-p1)\n",
    "    comb = dog_samp + human_samp\n",
    "    comb = comb.rename(samp_name)\n",
    "    meta = pd.DataFrame({'human_sample':[rand_human],'dog_sample':[rand_dog], 'human_prop':[(1-p1)], 'dog_prop':[p1]}, index=[samp_name])\n",
    "    return(comb, meta)"
   ]
  },
  {
   "cell_type": "markdown",
   "metadata": {},
   "source": [
    "We run this function for a range of mixed proportions (0 to 100%, by 10%), 3 time for each mix"
   ]
  },
  {
   "cell_type": "code",
   "execution_count": 7,
   "metadata": {},
   "outputs": [],
   "source": [
    "mixed_samp = []\n",
    "mixed_meta = []\n",
    "nb = 1\n",
    "for i in range(3): \n",
    "    for p1 in np.arange(0,1.1,0.1):\n",
    "        s = create_mixed_sample(cnt=cnt_test, labels=test_labels, p1=p1, samp_name=f\"mixed_sample_{nb}\", seed = int(100*p1))\n",
    "        mixed_samp.append(s[0])\n",
    "        mixed_meta.append(s[1])\n",
    "        nb += 1"
   ]
  },
  {
   "cell_type": "code",
   "execution_count": 8,
   "metadata": {},
   "outputs": [
    {
     "data": {
      "text/html": [
       "<div>\n",
       "<style scoped>\n",
       "    .dataframe tbody tr th:only-of-type {\n",
       "        vertical-align: middle;\n",
       "    }\n",
       "\n",
       "    .dataframe tbody tr th {\n",
       "        vertical-align: top;\n",
       "    }\n",
       "\n",
       "    .dataframe thead th {\n",
       "        text-align: right;\n",
       "    }\n",
       "</style>\n",
       "<table border=\"1\" class=\"dataframe\">\n",
       "  <thead>\n",
       "    <tr style=\"text-align: right;\">\n",
       "      <th></th>\n",
       "      <th>mixed_sample_1</th>\n",
       "      <th>mixed_sample_2</th>\n",
       "      <th>mixed_sample_3</th>\n",
       "      <th>mixed_sample_4</th>\n",
       "      <th>mixed_sample_5</th>\n",
       "      <th>mixed_sample_6</th>\n",
       "      <th>mixed_sample_7</th>\n",
       "      <th>mixed_sample_8</th>\n",
       "      <th>mixed_sample_9</th>\n",
       "      <th>mixed_sample_10</th>\n",
       "      <th>...</th>\n",
       "      <th>mixed_sample_24</th>\n",
       "      <th>mixed_sample_25</th>\n",
       "      <th>mixed_sample_26</th>\n",
       "      <th>mixed_sample_27</th>\n",
       "      <th>mixed_sample_28</th>\n",
       "      <th>mixed_sample_29</th>\n",
       "      <th>mixed_sample_30</th>\n",
       "      <th>mixed_sample_31</th>\n",
       "      <th>mixed_sample_32</th>\n",
       "      <th>mixed_sample_33</th>\n",
       "    </tr>\n",
       "    <tr>\n",
       "      <th>TAXID</th>\n",
       "      <th></th>\n",
       "      <th></th>\n",
       "      <th></th>\n",
       "      <th></th>\n",
       "      <th></th>\n",
       "      <th></th>\n",
       "      <th></th>\n",
       "      <th></th>\n",
       "      <th></th>\n",
       "      <th></th>\n",
       "      <th></th>\n",
       "      <th></th>\n",
       "      <th></th>\n",
       "      <th></th>\n",
       "      <th></th>\n",
       "      <th></th>\n",
       "      <th></th>\n",
       "      <th></th>\n",
       "      <th></th>\n",
       "      <th></th>\n",
       "      <th></th>\n",
       "    </tr>\n",
       "  </thead>\n",
       "  <tbody>\n",
       "    <tr>\n",
       "      <th>0</th>\n",
       "      <td>5565044</td>\n",
       "      <td>2390966</td>\n",
       "      <td>15338330</td>\n",
       "      <td>14408501</td>\n",
       "      <td>7983985</td>\n",
       "      <td>5100662</td>\n",
       "      <td>8740624</td>\n",
       "      <td>3251030</td>\n",
       "      <td>3418809</td>\n",
       "      <td>2103402</td>\n",
       "      <td>...</td>\n",
       "      <td>2390966</td>\n",
       "      <td>15338330</td>\n",
       "      <td>14408501</td>\n",
       "      <td>7983985</td>\n",
       "      <td>5100662</td>\n",
       "      <td>8740624</td>\n",
       "      <td>3251030</td>\n",
       "      <td>3418809</td>\n",
       "      <td>2103402</td>\n",
       "      <td>1529589</td>\n",
       "    </tr>\n",
       "    <tr>\n",
       "      <th>6</th>\n",
       "      <td>0</td>\n",
       "      <td>0</td>\n",
       "      <td>433</td>\n",
       "      <td>0</td>\n",
       "      <td>66</td>\n",
       "      <td>26</td>\n",
       "      <td>0</td>\n",
       "      <td>0</td>\n",
       "      <td>0</td>\n",
       "      <td>0</td>\n",
       "      <td>...</td>\n",
       "      <td>0</td>\n",
       "      <td>433</td>\n",
       "      <td>0</td>\n",
       "      <td>66</td>\n",
       "      <td>26</td>\n",
       "      <td>0</td>\n",
       "      <td>0</td>\n",
       "      <td>0</td>\n",
       "      <td>0</td>\n",
       "      <td>0</td>\n",
       "    </tr>\n",
       "    <tr>\n",
       "      <th>7</th>\n",
       "      <td>0</td>\n",
       "      <td>0</td>\n",
       "      <td>433</td>\n",
       "      <td>0</td>\n",
       "      <td>66</td>\n",
       "      <td>26</td>\n",
       "      <td>0</td>\n",
       "      <td>0</td>\n",
       "      <td>0</td>\n",
       "      <td>0</td>\n",
       "      <td>...</td>\n",
       "      <td>0</td>\n",
       "      <td>433</td>\n",
       "      <td>0</td>\n",
       "      <td>66</td>\n",
       "      <td>26</td>\n",
       "      <td>0</td>\n",
       "      <td>0</td>\n",
       "      <td>0</td>\n",
       "      <td>0</td>\n",
       "      <td>0</td>\n",
       "    </tr>\n",
       "    <tr>\n",
       "      <th>9</th>\n",
       "      <td>72</td>\n",
       "      <td>55</td>\n",
       "      <td>90</td>\n",
       "      <td>184</td>\n",
       "      <td>98</td>\n",
       "      <td>141</td>\n",
       "      <td>159</td>\n",
       "      <td>74</td>\n",
       "      <td>78</td>\n",
       "      <td>70</td>\n",
       "      <td>...</td>\n",
       "      <td>55</td>\n",
       "      <td>90</td>\n",
       "      <td>184</td>\n",
       "      <td>98</td>\n",
       "      <td>141</td>\n",
       "      <td>159</td>\n",
       "      <td>74</td>\n",
       "      <td>78</td>\n",
       "      <td>70</td>\n",
       "      <td>69</td>\n",
       "    </tr>\n",
       "    <tr>\n",
       "      <th>10</th>\n",
       "      <td>220</td>\n",
       "      <td>75</td>\n",
       "      <td>83</td>\n",
       "      <td>136</td>\n",
       "      <td>276</td>\n",
       "      <td>117</td>\n",
       "      <td>65</td>\n",
       "      <td>109</td>\n",
       "      <td>194</td>\n",
       "      <td>89</td>\n",
       "      <td>...</td>\n",
       "      <td>75</td>\n",
       "      <td>83</td>\n",
       "      <td>136</td>\n",
       "      <td>276</td>\n",
       "      <td>117</td>\n",
       "      <td>65</td>\n",
       "      <td>109</td>\n",
       "      <td>194</td>\n",
       "      <td>89</td>\n",
       "      <td>80</td>\n",
       "    </tr>\n",
       "  </tbody>\n",
       "</table>\n",
       "<p>5 rows × 33 columns</p>\n",
       "</div>"
      ],
      "text/plain": [
       "       mixed_sample_1  mixed_sample_2  mixed_sample_3  mixed_sample_4  \\\n",
       "TAXID                                                                   \n",
       "0             5565044         2390966        15338330        14408501   \n",
       "6                   0               0             433               0   \n",
       "7                   0               0             433               0   \n",
       "9                  72              55              90             184   \n",
       "10                220              75              83             136   \n",
       "\n",
       "       mixed_sample_5  mixed_sample_6  mixed_sample_7  mixed_sample_8  \\\n",
       "TAXID                                                                   \n",
       "0             7983985         5100662         8740624         3251030   \n",
       "6                  66              26               0               0   \n",
       "7                  66              26               0               0   \n",
       "9                  98             141             159              74   \n",
       "10                276             117              65             109   \n",
       "\n",
       "       mixed_sample_9  mixed_sample_10  ...  mixed_sample_24  mixed_sample_25  \\\n",
       "TAXID                                   ...                                     \n",
       "0             3418809          2103402  ...          2390966         15338330   \n",
       "6                   0                0  ...                0              433   \n",
       "7                   0                0  ...                0              433   \n",
       "9                  78               70  ...               55               90   \n",
       "10                194               89  ...               75               83   \n",
       "\n",
       "       mixed_sample_26  mixed_sample_27  mixed_sample_28  mixed_sample_29  \\\n",
       "TAXID                                                                       \n",
       "0             14408501          7983985          5100662          8740624   \n",
       "6                    0               66               26                0   \n",
       "7                    0               66               26                0   \n",
       "9                  184               98              141              159   \n",
       "10                 136              276              117               65   \n",
       "\n",
       "       mixed_sample_30  mixed_sample_31  mixed_sample_32  mixed_sample_33  \n",
       "TAXID                                                                      \n",
       "0              3251030          3418809          2103402          1529589  \n",
       "6                    0                0                0                0  \n",
       "7                    0                0                0                0  \n",
       "9                   74               78               70               69  \n",
       "10                 109              194               89               80  \n",
       "\n",
       "[5 rows x 33 columns]"
      ]
     },
     "execution_count": 8,
     "metadata": {},
     "output_type": "execute_result"
    }
   ],
   "source": [
    "mixed_samples = pd.concat(mixed_samp, axis=1, keys=[s.name for s in mixed_samp]).astype(int)\n",
    "mixed_samples.head()"
   ]
  },
  {
   "cell_type": "code",
   "execution_count": 9,
   "metadata": {},
   "outputs": [
    {
     "data": {
      "text/html": [
       "<div>\n",
       "<style scoped>\n",
       "    .dataframe tbody tr th:only-of-type {\n",
       "        vertical-align: middle;\n",
       "    }\n",
       "\n",
       "    .dataframe tbody tr th {\n",
       "        vertical-align: top;\n",
       "    }\n",
       "\n",
       "    .dataframe thead th {\n",
       "        text-align: right;\n",
       "    }\n",
       "</style>\n",
       "<table border=\"1\" class=\"dataframe\">\n",
       "  <thead>\n",
       "    <tr style=\"text-align: right;\">\n",
       "      <th></th>\n",
       "      <th>human_sample</th>\n",
       "      <th>dog_sample</th>\n",
       "      <th>human_prop</th>\n",
       "      <th>dog_prop</th>\n",
       "    </tr>\n",
       "  </thead>\n",
       "  <tbody>\n",
       "    <tr>\n",
       "      <th>mixed_sample_1</th>\n",
       "      <td>SRR7658684</td>\n",
       "      <td>ERR1913675</td>\n",
       "      <td>1.0</td>\n",
       "      <td>0.0</td>\n",
       "    </tr>\n",
       "    <tr>\n",
       "      <th>mixed_sample_2</th>\n",
       "      <td>SRR1761664</td>\n",
       "      <td>ERR1915293</td>\n",
       "      <td>0.9</td>\n",
       "      <td>0.1</td>\n",
       "    </tr>\n",
       "    <tr>\n",
       "      <th>mixed_sample_3</th>\n",
       "      <td>SRR7658622</td>\n",
       "      <td>ERR1916218</td>\n",
       "      <td>0.8</td>\n",
       "      <td>0.2</td>\n",
       "    </tr>\n",
       "    <tr>\n",
       "      <th>mixed_sample_4</th>\n",
       "      <td>SRR059440</td>\n",
       "      <td>ERR1914207</td>\n",
       "      <td>0.7</td>\n",
       "      <td>0.3</td>\n",
       "    </tr>\n",
       "    <tr>\n",
       "      <th>mixed_sample_5</th>\n",
       "      <td>SRR7658624</td>\n",
       "      <td>ERR1914667</td>\n",
       "      <td>0.6</td>\n",
       "      <td>0.4</td>\n",
       "    </tr>\n",
       "    <tr>\n",
       "      <th>mixed_sample_6</th>\n",
       "      <td>SRR7658608</td>\n",
       "      <td>ERR1915420</td>\n",
       "      <td>0.5</td>\n",
       "      <td>0.5</td>\n",
       "    </tr>\n",
       "    <tr>\n",
       "      <th>mixed_sample_7</th>\n",
       "      <td>SRR059440</td>\n",
       "      <td>ERR1915420</td>\n",
       "      <td>0.4</td>\n",
       "      <td>0.6</td>\n",
       "    </tr>\n",
       "    <tr>\n",
       "      <th>mixed_sample_8</th>\n",
       "      <td>SRR1930140</td>\n",
       "      <td>ERR1915611</td>\n",
       "      <td>0.3</td>\n",
       "      <td>0.7</td>\n",
       "    </tr>\n",
       "    <tr>\n",
       "      <th>mixed_sample_9</th>\n",
       "      <td>SRR1761667</td>\n",
       "      <td>ERR1914224</td>\n",
       "      <td>0.2</td>\n",
       "      <td>0.8</td>\n",
       "    </tr>\n",
       "    <tr>\n",
       "      <th>mixed_sample_10</th>\n",
       "      <td>SRR1930140</td>\n",
       "      <td>ERR1915611</td>\n",
       "      <td>0.1</td>\n",
       "      <td>0.9</td>\n",
       "    </tr>\n",
       "    <tr>\n",
       "      <th>mixed_sample_11</th>\n",
       "      <td>SRR7658624</td>\n",
       "      <td>ERR1915611</td>\n",
       "      <td>0.0</td>\n",
       "      <td>1.0</td>\n",
       "    </tr>\n",
       "    <tr>\n",
       "      <th>mixed_sample_12</th>\n",
       "      <td>SRR7658684</td>\n",
       "      <td>ERR1913675</td>\n",
       "      <td>1.0</td>\n",
       "      <td>0.0</td>\n",
       "    </tr>\n",
       "    <tr>\n",
       "      <th>mixed_sample_13</th>\n",
       "      <td>SRR1761664</td>\n",
       "      <td>ERR1915293</td>\n",
       "      <td>0.9</td>\n",
       "      <td>0.1</td>\n",
       "    </tr>\n",
       "    <tr>\n",
       "      <th>mixed_sample_14</th>\n",
       "      <td>SRR7658622</td>\n",
       "      <td>ERR1916218</td>\n",
       "      <td>0.8</td>\n",
       "      <td>0.2</td>\n",
       "    </tr>\n",
       "    <tr>\n",
       "      <th>mixed_sample_15</th>\n",
       "      <td>SRR059440</td>\n",
       "      <td>ERR1914207</td>\n",
       "      <td>0.7</td>\n",
       "      <td>0.3</td>\n",
       "    </tr>\n",
       "    <tr>\n",
       "      <th>mixed_sample_16</th>\n",
       "      <td>SRR7658624</td>\n",
       "      <td>ERR1914667</td>\n",
       "      <td>0.6</td>\n",
       "      <td>0.4</td>\n",
       "    </tr>\n",
       "    <tr>\n",
       "      <th>mixed_sample_17</th>\n",
       "      <td>SRR7658608</td>\n",
       "      <td>ERR1915420</td>\n",
       "      <td>0.5</td>\n",
       "      <td>0.5</td>\n",
       "    </tr>\n",
       "    <tr>\n",
       "      <th>mixed_sample_18</th>\n",
       "      <td>SRR059440</td>\n",
       "      <td>ERR1915420</td>\n",
       "      <td>0.4</td>\n",
       "      <td>0.6</td>\n",
       "    </tr>\n",
       "    <tr>\n",
       "      <th>mixed_sample_19</th>\n",
       "      <td>SRR1930140</td>\n",
       "      <td>ERR1915611</td>\n",
       "      <td>0.3</td>\n",
       "      <td>0.7</td>\n",
       "    </tr>\n",
       "    <tr>\n",
       "      <th>mixed_sample_20</th>\n",
       "      <td>SRR1761667</td>\n",
       "      <td>ERR1914224</td>\n",
       "      <td>0.2</td>\n",
       "      <td>0.8</td>\n",
       "    </tr>\n",
       "    <tr>\n",
       "      <th>mixed_sample_21</th>\n",
       "      <td>SRR1930140</td>\n",
       "      <td>ERR1915611</td>\n",
       "      <td>0.1</td>\n",
       "      <td>0.9</td>\n",
       "    </tr>\n",
       "    <tr>\n",
       "      <th>mixed_sample_22</th>\n",
       "      <td>SRR7658624</td>\n",
       "      <td>ERR1915611</td>\n",
       "      <td>0.0</td>\n",
       "      <td>1.0</td>\n",
       "    </tr>\n",
       "    <tr>\n",
       "      <th>mixed_sample_23</th>\n",
       "      <td>SRR7658684</td>\n",
       "      <td>ERR1913675</td>\n",
       "      <td>1.0</td>\n",
       "      <td>0.0</td>\n",
       "    </tr>\n",
       "    <tr>\n",
       "      <th>mixed_sample_24</th>\n",
       "      <td>SRR1761664</td>\n",
       "      <td>ERR1915293</td>\n",
       "      <td>0.9</td>\n",
       "      <td>0.1</td>\n",
       "    </tr>\n",
       "    <tr>\n",
       "      <th>mixed_sample_25</th>\n",
       "      <td>SRR7658622</td>\n",
       "      <td>ERR1916218</td>\n",
       "      <td>0.8</td>\n",
       "      <td>0.2</td>\n",
       "    </tr>\n",
       "    <tr>\n",
       "      <th>mixed_sample_26</th>\n",
       "      <td>SRR059440</td>\n",
       "      <td>ERR1914207</td>\n",
       "      <td>0.7</td>\n",
       "      <td>0.3</td>\n",
       "    </tr>\n",
       "    <tr>\n",
       "      <th>mixed_sample_27</th>\n",
       "      <td>SRR7658624</td>\n",
       "      <td>ERR1914667</td>\n",
       "      <td>0.6</td>\n",
       "      <td>0.4</td>\n",
       "    </tr>\n",
       "    <tr>\n",
       "      <th>mixed_sample_28</th>\n",
       "      <td>SRR7658608</td>\n",
       "      <td>ERR1915420</td>\n",
       "      <td>0.5</td>\n",
       "      <td>0.5</td>\n",
       "    </tr>\n",
       "    <tr>\n",
       "      <th>mixed_sample_29</th>\n",
       "      <td>SRR059440</td>\n",
       "      <td>ERR1915420</td>\n",
       "      <td>0.4</td>\n",
       "      <td>0.6</td>\n",
       "    </tr>\n",
       "    <tr>\n",
       "      <th>mixed_sample_30</th>\n",
       "      <td>SRR1930140</td>\n",
       "      <td>ERR1915611</td>\n",
       "      <td>0.3</td>\n",
       "      <td>0.7</td>\n",
       "    </tr>\n",
       "    <tr>\n",
       "      <th>mixed_sample_31</th>\n",
       "      <td>SRR1761667</td>\n",
       "      <td>ERR1914224</td>\n",
       "      <td>0.2</td>\n",
       "      <td>0.8</td>\n",
       "    </tr>\n",
       "    <tr>\n",
       "      <th>mixed_sample_32</th>\n",
       "      <td>SRR1930140</td>\n",
       "      <td>ERR1915611</td>\n",
       "      <td>0.1</td>\n",
       "      <td>0.9</td>\n",
       "    </tr>\n",
       "    <tr>\n",
       "      <th>mixed_sample_33</th>\n",
       "      <td>SRR7658624</td>\n",
       "      <td>ERR1915611</td>\n",
       "      <td>0.0</td>\n",
       "      <td>1.0</td>\n",
       "    </tr>\n",
       "  </tbody>\n",
       "</table>\n",
       "</div>"
      ],
      "text/plain": [
       "                human_sample  dog_sample  human_prop  dog_prop\n",
       "mixed_sample_1    SRR7658684  ERR1913675         1.0       0.0\n",
       "mixed_sample_2    SRR1761664  ERR1915293         0.9       0.1\n",
       "mixed_sample_3    SRR7658622  ERR1916218         0.8       0.2\n",
       "mixed_sample_4     SRR059440  ERR1914207         0.7       0.3\n",
       "mixed_sample_5    SRR7658624  ERR1914667         0.6       0.4\n",
       "mixed_sample_6    SRR7658608  ERR1915420         0.5       0.5\n",
       "mixed_sample_7     SRR059440  ERR1915420         0.4       0.6\n",
       "mixed_sample_8    SRR1930140  ERR1915611         0.3       0.7\n",
       "mixed_sample_9    SRR1761667  ERR1914224         0.2       0.8\n",
       "mixed_sample_10   SRR1930140  ERR1915611         0.1       0.9\n",
       "mixed_sample_11   SRR7658624  ERR1915611         0.0       1.0\n",
       "mixed_sample_12   SRR7658684  ERR1913675         1.0       0.0\n",
       "mixed_sample_13   SRR1761664  ERR1915293         0.9       0.1\n",
       "mixed_sample_14   SRR7658622  ERR1916218         0.8       0.2\n",
       "mixed_sample_15    SRR059440  ERR1914207         0.7       0.3\n",
       "mixed_sample_16   SRR7658624  ERR1914667         0.6       0.4\n",
       "mixed_sample_17   SRR7658608  ERR1915420         0.5       0.5\n",
       "mixed_sample_18    SRR059440  ERR1915420         0.4       0.6\n",
       "mixed_sample_19   SRR1930140  ERR1915611         0.3       0.7\n",
       "mixed_sample_20   SRR1761667  ERR1914224         0.2       0.8\n",
       "mixed_sample_21   SRR1930140  ERR1915611         0.1       0.9\n",
       "mixed_sample_22   SRR7658624  ERR1915611         0.0       1.0\n",
       "mixed_sample_23   SRR7658684  ERR1913675         1.0       0.0\n",
       "mixed_sample_24   SRR1761664  ERR1915293         0.9       0.1\n",
       "mixed_sample_25   SRR7658622  ERR1916218         0.8       0.2\n",
       "mixed_sample_26    SRR059440  ERR1914207         0.7       0.3\n",
       "mixed_sample_27   SRR7658624  ERR1914667         0.6       0.4\n",
       "mixed_sample_28   SRR7658608  ERR1915420         0.5       0.5\n",
       "mixed_sample_29    SRR059440  ERR1915420         0.4       0.6\n",
       "mixed_sample_30   SRR1930140  ERR1915611         0.3       0.7\n",
       "mixed_sample_31   SRR1761667  ERR1914224         0.2       0.8\n",
       "mixed_sample_32   SRR1930140  ERR1915611         0.1       0.9\n",
       "mixed_sample_33   SRR7658624  ERR1915611         0.0       1.0"
      ]
     },
     "execution_count": 9,
     "metadata": {},
     "output_type": "execute_result"
    }
   ],
   "source": [
    "mixed_metadata = pd.concat(mixed_meta)\n",
    "mixed_metadata"
   ]
  },
  {
   "cell_type": "markdown",
   "metadata": {},
   "source": [
    "Now we can export the new \"test\" (sink) table to `csv` for sourcepredict"
   ]
  },
  {
   "cell_type": "code",
   "execution_count": 10,
   "metadata": {},
   "outputs": [],
   "source": [
    "mixed_samples.to_csv('mixed_samples_cnt.csv')"
   ]
  },
  {
   "cell_type": "markdown",
   "metadata": {},
   "source": [
    "As well as the source count and labels table for the sources"
   ]
  },
  {
   "cell_type": "code",
   "execution_count": 11,
   "metadata": {},
   "outputs": [],
   "source": [
    "train_labels.to_csv('train_labels.csv')\n",
    "cnt_train.to_csv('sources_cnt.csv')"
   ]
  },
  {
   "cell_type": "markdown",
   "metadata": {},
   "source": [
    "## Sourcepredict"
   ]
  },
  {
   "cell_type": "markdown",
   "metadata": {},
   "source": [
    "### With KNN machine learning"
   ]
  },
  {
   "cell_type": "markdown",
   "metadata": {},
   "source": [
    "For running Sourcepredict, we'll change two parameters from their default values:\n",
    "- `-me` The default method used by Sourcepredict is T-SNE which a non-linear type of embedding, i.e. the distance between points doesn't reflext their actual distance in the original dimensions, to achieve a better clustering, which is good for source prediction. Because here we're more interested in source proportion estimation, rather than source prediction, we'll choose a Multi Dimensional Scaling (MDS) which is a type of linear embedding, where the distance between points in the lower dimension match more the distances in the embedding in lower dimension, which is better for source proportion estimation.\n",
    "- `-kne` which is the number of neighbors in KNN algorithm: we use all neighbors to reflect a more global contribution of samples to the proportion estimation, instead of only the immediate neighbors. This will affect negatively the source prediction, but give better source proportion estimations"
   ]
  },
  {
   "cell_type": "code",
   "execution_count": 12,
   "metadata": {},
   "outputs": [
    {
     "name": "stdout",
     "output_type": "stream",
     "text": [
      "Traceback (most recent call last):\n",
      "  File \"../sourcepredict\", line 4, in <module>\n",
      "    from sourcepredictlib.ml import sourceunknown\n",
      "  File \"/Users/borry/Documents/GitHub/sourcepredict/sourcepredictlib/ml.py\", line 371\n",
      "    if neighbors == 'all'\n",
      "                        ^\n",
      "SyntaxError: invalid syntax\n",
      "CPU times: user 3.73 ms, sys: 7.14 ms, total: 10.9 ms\n",
      "Wall time: 167 ms\n"
     ]
    }
   ],
   "source": [
    "%%time\n",
    "!python ../sourcepredict -s sources_cnt.csv \\\n",
    "               -l train_labels.csv \\\n",
    "               -kne all\\\n",
    "               -me mds \\\n",
    "               -e mixed_embedding.csv \\\n",
    "               -t 6 \\\n",
    "               mixed_samples_cnt.csv"
   ]
  },
  {
   "cell_type": "markdown",
   "metadata": {},
   "source": [
    "**Reading Sourcepredict KNN results**"
   ]
  },
  {
   "cell_type": "code",
   "execution_count": 13,
   "metadata": {},
   "outputs": [],
   "source": [
    "sp_ebd = pd.read_csv(\"mixed_embedding.csv\", index_col=0)"
   ]
  },
  {
   "cell_type": "code",
   "execution_count": 14,
   "metadata": {},
   "outputs": [
    {
     "data": {
      "text/html": [
       "<div>\n",
       "<style scoped>\n",
       "    .dataframe tbody tr th:only-of-type {\n",
       "        vertical-align: middle;\n",
       "    }\n",
       "\n",
       "    .dataframe tbody tr th {\n",
       "        vertical-align: top;\n",
       "    }\n",
       "\n",
       "    .dataframe thead th {\n",
       "        text-align: right;\n",
       "    }\n",
       "</style>\n",
       "<table border=\"1\" class=\"dataframe\">\n",
       "  <thead>\n",
       "    <tr style=\"text-align: right;\">\n",
       "      <th></th>\n",
       "      <th>PC1</th>\n",
       "      <th>PC2</th>\n",
       "      <th>labels</th>\n",
       "      <th>name</th>\n",
       "    </tr>\n",
       "  </thead>\n",
       "  <tbody>\n",
       "    <tr>\n",
       "      <th>mgm4477874_3</th>\n",
       "      <td>8.822395</td>\n",
       "      <td>-4.957090</td>\n",
       "      <td>Soil</td>\n",
       "      <td>mgm4477874_3</td>\n",
       "    </tr>\n",
       "    <tr>\n",
       "      <th>SRR1761709</th>\n",
       "      <td>3.896029</td>\n",
       "      <td>6.258361</td>\n",
       "      <td>Homo_sapiens</td>\n",
       "      <td>SRR1761709</td>\n",
       "    </tr>\n",
       "    <tr>\n",
       "      <th>SRR7658685</th>\n",
       "      <td>-1.151347</td>\n",
       "      <td>5.457706</td>\n",
       "      <td>Homo_sapiens</td>\n",
       "      <td>SRR7658685</td>\n",
       "    </tr>\n",
       "    <tr>\n",
       "      <th>SRR059395</th>\n",
       "      <td>-0.889409</td>\n",
       "      <td>-7.682652</td>\n",
       "      <td>Homo_sapiens</td>\n",
       "      <td>SRR059395</td>\n",
       "    </tr>\n",
       "    <tr>\n",
       "      <th>ERR1915122</th>\n",
       "      <td>-3.533856</td>\n",
       "      <td>-2.673234</td>\n",
       "      <td>Canis_familiaris</td>\n",
       "      <td>ERR1915122</td>\n",
       "    </tr>\n",
       "  </tbody>\n",
       "</table>\n",
       "</div>"
      ],
      "text/plain": [
       "                   PC1       PC2            labels          name\n",
       "mgm4477874_3  8.822395 -4.957090              Soil  mgm4477874_3\n",
       "SRR1761709    3.896029  6.258361      Homo_sapiens    SRR1761709\n",
       "SRR7658685   -1.151347  5.457706      Homo_sapiens    SRR7658685\n",
       "SRR059395    -0.889409 -7.682652      Homo_sapiens     SRR059395\n",
       "ERR1915122   -3.533856 -2.673234  Canis_familiaris    ERR1915122"
      ]
     },
     "execution_count": 14,
     "metadata": {},
     "output_type": "execute_result"
    }
   ],
   "source": [
    "sp_ebd.head()"
   ]
  },
  {
   "cell_type": "code",
   "execution_count": 15,
   "metadata": {},
   "outputs": [],
   "source": [
    "import warnings\n",
    "warnings.filterwarnings('ignore')"
   ]
  },
  {
   "cell_type": "code",
   "execution_count": 16,
   "metadata": {},
   "outputs": [
    {
     "data": {
      "image/png": "[encoded data removed]",
      "text/plain": [
       "<Figure size 640x480 with 1 Axes>"
      ]
     },
     "metadata": {},
     "output_type": "display_data"
    },
    {
     "data": {
      "text/plain": [
       "<ggplot: (292803357)>"
      ]
     },
     "execution_count": 16,
     "metadata": {},
     "output_type": "execute_result"
    }
   ],
   "source": [
    "ggplot(data = sp_ebd, mapping = aes(x='PC1',y='PC2')) + geom_point(aes(color='labels')) + theme_classic()"
   ]
  },
  {
   "cell_type": "code",
   "execution_count": 17,
   "metadata": {},
   "outputs": [],
   "source": [
    "sp_pred = pd.read_csv(\"mixed_samples_cnt.sourcepredict.csv\", index_col=0)"
   ]
  },
  {
   "cell_type": "code",
   "execution_count": 18,
   "metadata": {},
   "outputs": [
    {
     "data": {
      "text/html": [
       "<div>\n",
       "<style scoped>\n",
       "    .dataframe tbody tr th:only-of-type {\n",
       "        vertical-align: middle;\n",
       "    }\n",
       "\n",
       "    .dataframe tbody tr th {\n",
       "        vertical-align: top;\n",
       "    }\n",
       "\n",
       "    .dataframe thead th {\n",
       "        text-align: right;\n",
       "    }\n",
       "</style>\n",
       "<table border=\"1\" class=\"dataframe\">\n",
       "  <thead>\n",
       "    <tr style=\"text-align: right;\">\n",
       "      <th></th>\n",
       "      <th>Canis_familiaris</th>\n",
       "      <th>Homo_sapiens</th>\n",
       "      <th>Soil</th>\n",
       "      <th>unknown</th>\n",
       "    </tr>\n",
       "  </thead>\n",
       "  <tbody>\n",
       "    <tr>\n",
       "      <th>mixed_sample_1</th>\n",
       "      <td>0.168381</td>\n",
       "      <td>0.800145</td>\n",
       "      <td>0.016322</td>\n",
       "      <td>0.015152</td>\n",
       "    </tr>\n",
       "    <tr>\n",
       "      <th>mixed_sample_2</th>\n",
       "      <td>0.136828</td>\n",
       "      <td>0.822562</td>\n",
       "      <td>0.025459</td>\n",
       "      <td>0.015152</td>\n",
       "    </tr>\n",
       "    <tr>\n",
       "      <th>mixed_sample_3</th>\n",
       "      <td>0.214168</td>\n",
       "      <td>0.739634</td>\n",
       "      <td>0.031122</td>\n",
       "      <td>0.015075</td>\n",
       "    </tr>\n",
       "    <tr>\n",
       "      <th>mixed_sample_4</th>\n",
       "      <td>0.262756</td>\n",
       "      <td>0.709232</td>\n",
       "      <td>0.012864</td>\n",
       "      <td>0.015148</td>\n",
       "    </tr>\n",
       "    <tr>\n",
       "      <th>mixed_sample_5</th>\n",
       "      <td>0.213047</td>\n",
       "      <td>0.733132</td>\n",
       "      <td>0.038669</td>\n",
       "      <td>0.015152</td>\n",
       "    </tr>\n",
       "  </tbody>\n",
       "</table>\n",
       "</div>"
      ],
      "text/plain": [
       "                Canis_familiaris  Homo_sapiens      Soil   unknown\n",
       "mixed_sample_1          0.168381      0.800145  0.016322  0.015152\n",
       "mixed_sample_2          0.136828      0.822562  0.025459  0.015152\n",
       "mixed_sample_3          0.214168      0.739634  0.031122  0.015075\n",
       "mixed_sample_4          0.262756      0.709232  0.012864  0.015148\n",
       "mixed_sample_5          0.213047      0.733132  0.038669  0.015152"
      ]
     },
     "execution_count": 18,
     "metadata": {},
     "output_type": "execute_result"
    }
   ],
   "source": [
    "sp_pred.T.head()"
   ]
  },
  {
   "cell_type": "code",
   "execution_count": 19,
   "metadata": {},
   "outputs": [
    {
     "data": {
      "text/html": [
       "<div>\n",
       "<style scoped>\n",
       "    .dataframe tbody tr th:only-of-type {\n",
       "        vertical-align: middle;\n",
       "    }\n",
       "\n",
       "    .dataframe tbody tr th {\n",
       "        vertical-align: top;\n",
       "    }\n",
       "\n",
       "    .dataframe thead th {\n",
       "        text-align: right;\n",
       "    }\n",
       "</style>\n",
       "<table border=\"1\" class=\"dataframe\">\n",
       "  <thead>\n",
       "    <tr style=\"text-align: right;\">\n",
       "      <th></th>\n",
       "      <th>human_sample</th>\n",
       "      <th>dog_sample</th>\n",
       "      <th>human_prop</th>\n",
       "      <th>dog_prop</th>\n",
       "    </tr>\n",
       "  </thead>\n",
       "  <tbody>\n",
       "    <tr>\n",
       "      <th>mixed_sample_1</th>\n",
       "      <td>SRR7658684</td>\n",
       "      <td>ERR1913675</td>\n",
       "      <td>1.0</td>\n",
       "      <td>0.0</td>\n",
       "    </tr>\n",
       "    <tr>\n",
       "      <th>mixed_sample_2</th>\n",
       "      <td>SRR1761664</td>\n",
       "      <td>ERR1915293</td>\n",
       "      <td>0.9</td>\n",
       "      <td>0.1</td>\n",
       "    </tr>\n",
       "    <tr>\n",
       "      <th>mixed_sample_3</th>\n",
       "      <td>SRR7658622</td>\n",
       "      <td>ERR1916218</td>\n",
       "      <td>0.8</td>\n",
       "      <td>0.2</td>\n",
       "    </tr>\n",
       "    <tr>\n",
       "      <th>mixed_sample_4</th>\n",
       "      <td>SRR059440</td>\n",
       "      <td>ERR1914207</td>\n",
       "      <td>0.7</td>\n",
       "      <td>0.3</td>\n",
       "    </tr>\n",
       "    <tr>\n",
       "      <th>mixed_sample_5</th>\n",
       "      <td>SRR7658624</td>\n",
       "      <td>ERR1914667</td>\n",
       "      <td>0.6</td>\n",
       "      <td>0.4</td>\n",
       "    </tr>\n",
       "  </tbody>\n",
       "</table>\n",
       "</div>"
      ],
      "text/plain": [
       "               human_sample  dog_sample  human_prop  dog_prop\n",
       "mixed_sample_1   SRR7658684  ERR1913675         1.0       0.0\n",
       "mixed_sample_2   SRR1761664  ERR1915293         0.9       0.1\n",
       "mixed_sample_3   SRR7658622  ERR1916218         0.8       0.2\n",
       "mixed_sample_4    SRR059440  ERR1914207         0.7       0.3\n",
       "mixed_sample_5   SRR7658624  ERR1914667         0.6       0.4"
      ]
     },
     "execution_count": 19,
     "metadata": {},
     "output_type": "execute_result"
    }
   ],
   "source": [
    "mixed_metadata.head()"
   ]
  },
  {
   "cell_type": "code",
   "execution_count": 20,
   "metadata": {},
   "outputs": [],
   "source": [
    "sp_res = sp_pred.T.merge(mixed_metadata, left_index=True, right_index=True)"
   ]
  },
  {
   "cell_type": "code",
   "execution_count": 21,
   "metadata": {},
   "outputs": [],
   "source": [
    "from sklearn.metrics import r2_score, mean_squared_error"
   ]
  },
  {
   "cell_type": "code",
   "execution_count": 22,
   "metadata": {},
   "outputs": [],
   "source": [
    "mse_sp = round(mean_squared_error(y_pred=sp_res['Homo_sapiens'], y_true=sp_res['human_prop']),2)\n",
    "r2_sp = round(r2_score(y_pred=sp_res['Homo_sapiens'], y_true=sp_res['human_prop']),2)"
   ]
  },
  {
   "cell_type": "code",
   "execution_count": 23,
   "metadata": {},
   "outputs": [
    {
     "data": {
      "image/png": "[encoded data removed]",
      "text/plain": [
       "<Figure size 640x480 with 1 Axes>"
      ]
     },
     "metadata": {},
     "output_type": "display_data"
    },
    {
     "data": {
      "text/plain": [
       "<ggplot: (292754843)>"
      ]
     },
     "execution_count": 23,
     "metadata": {},
     "output_type": "execute_result"
    }
   ],
   "source": [
    "p = ggplot(data = sp_res, mapping=aes(x='human_prop',y='Homo_sapiens')) + geom_point()\n",
    "p += labs(title = f\"Homo sapiens proportions predicted by Soucepredict - $MSE = {mse_sp}$ - $R^2 = {r2_sp}$\", x='actual', y='predicted') \n",
    "p += theme_classic() \n",
    "p += coord_cartesian(xlim=[0,1], ylim=[0,1])\n",
    "p += geom_abline(intercept=0, slope=1, color = \"red\", alpha=0.2, linetype = 'dashed')\n",
    "p"
   ]
  },
  {
   "cell_type": "markdown",
   "metadata": {},
   "source": [
    "On this plot, the dotted red line represents what a perfect proportion estimation would give"
   ]
  },
  {
   "cell_type": "code",
   "execution_count": 24,
   "metadata": {},
   "outputs": [],
   "source": [
    "sp_res_hist = (sp_res['human_prop'].append(sp_res['Homo_sapiens']).to_frame(name='Homo_sapiens_prop'))\n",
    "sp_res_hist['source'] = (['actual']*sp_res.shape[0]+['predicted']*sp_res.shape[0])"
   ]
  },
  {
   "cell_type": "code",
   "execution_count": 25,
   "metadata": {},
   "outputs": [
    {
     "data": {
      "image/png": "[encoded data removed]",
      "text/plain": [
       "<Figure size 640x480 with 1 Axes>"
      ]
     },
     "metadata": {},
     "output_type": "display_data"
    },
    {
     "data": {
      "text/plain": [
       "<ggplot: (-9223372036562007506)>"
      ]
     },
     "execution_count": 25,
     "metadata": {},
     "output_type": "execute_result"
    }
   ],
   "source": [
    "p = ggplot(data = sp_res_hist, mapping=aes(x='Homo_sapiens_prop')) + geom_density(aes(fill='source'), alpha=0.3)\n",
    "p += labs(title = 'Distribution of Homo sapiens predicted proportions by Sourcepredict') \n",
    "p += scale_fill_discrete(name=\"Homo sapiens proportion\")\n",
    "p += theme_classic() \n",
    "p"
   ]
  },
  {
   "cell_type": "markdown",
   "metadata": {},
   "source": [
    "This plot shows the actual and predicted by Sourcepredict distribution of Human proportions. What we are interested in is the overlap between the two colors: the higher it is, the more the estimated Human proportion is accurate."
   ]
  },
  {
   "cell_type": "markdown",
   "metadata": {},
   "source": [
    "## Sourcetracker2"
   ]
  },
  {
   "cell_type": "markdown",
   "metadata": {},
   "source": [
    "Preparing count table"
   ]
  },
  {
   "cell_type": "code",
   "execution_count": 26,
   "metadata": {},
   "outputs": [],
   "source": [
    "cnt_train.merge(mixed_samples, right_index=True, left_index=True).to_csv(\"st_mixed_count.csv\" , sep=\"\\t\", index_label=\"TAXID\")"
   ]
  },
  {
   "cell_type": "code",
   "execution_count": 27,
   "metadata": {},
   "outputs": [],
   "source": [
    "!biom convert -i st_mixed_count.csv -o st_mixed_count.biom --table-type=\"Taxon table\" --to-json"
   ]
  },
  {
   "cell_type": "markdown",
   "metadata": {},
   "source": [
    "Preparing metadata"
   ]
  },
  {
   "cell_type": "code",
   "execution_count": 28,
   "metadata": {},
   "outputs": [],
   "source": [
    "train_labels['SourceSink'] = ['source']*train_labels.shape[0]"
   ]
  },
  {
   "cell_type": "code",
   "execution_count": 29,
   "metadata": {},
   "outputs": [],
   "source": [
    "mixed_metadata['labels'] = ['-']*mixed_metadata.shape[0]\n",
    "mixed_metadata['SourceSink'] = ['sink']*mixed_metadata.shape[0]"
   ]
  },
  {
   "cell_type": "code",
   "execution_count": 30,
   "metadata": {},
   "outputs": [],
   "source": [
    "st_labels = train_labels.append(mixed_metadata[['labels', 'SourceSink']])"
   ]
  },
  {
   "cell_type": "code",
   "execution_count": 31,
   "metadata": {},
   "outputs": [],
   "source": [
    "st_labels = st_labels.rename(columns={'labels':'Env'})[['SourceSink','Env']]"
   ]
  },
  {
   "cell_type": "code",
   "execution_count": 32,
   "metadata": {},
   "outputs": [],
   "source": [
    "st_labels.to_csv(\"st_mixed_labels.csv\", sep=\"\\t\", index_label='#SampleID')"
   ]
  },
  {
   "cell_type": "markdown",
   "metadata": {},
   "source": [
    "Running Sourcetracker2 `sourcetracker2 gibbs -i st_mixed_count.biom -m st_mixed_labels.csv -o mixed_prop --jobs 6`  \n",
    "(Sourcetracker2 was run on a Linux remote server because of issues running it on MacOS)"
   ]
  },
  {
   "cell_type": "markdown",
   "metadata": {},
   "source": [
    "Sourcetracker2 results"
   ]
  },
  {
   "cell_type": "code",
   "execution_count": 33,
   "metadata": {},
   "outputs": [],
   "source": [
    "st_pred = pd.read_csv(\"_assets/mixed_prop/mixing_proportions.txt\", sep=\"\\t\", index_col=0)"
   ]
  },
  {
   "cell_type": "code",
   "execution_count": 34,
   "metadata": {},
   "outputs": [],
   "source": [
    "st_res = st_pred.merge(mixed_metadata, left_index=True, right_index=True)"
   ]
  },
  {
   "cell_type": "code",
   "execution_count": 35,
   "metadata": {},
   "outputs": [],
   "source": [
    "mse_st = round(mean_squared_error(y_pred=st_res['Homo_sapiens'], y_true=st_res['human_prop']),2)\n",
    "r2_st = round(r2_score(y_pred=st_res['Homo_sapiens'], y_true=st_res['human_prop']),2)"
   ]
  },
  {
   "cell_type": "code",
   "execution_count": 36,
   "metadata": {},
   "outputs": [
    {
     "data": {
      "image/png": "[encoded data removed]",
      "text/plain": [
       "<Figure size 640x480 with 1 Axes>"
      ]
     },
     "metadata": {},
     "output_type": "display_data"
    },
    {
     "data": {
      "text/plain": [
       "<ggplot: (-9223372036561956748)>"
      ]
     },
     "execution_count": 36,
     "metadata": {},
     "output_type": "execute_result"
    }
   ],
   "source": [
    "p = ggplot(data = st_res, mapping=aes(x='human_prop',y='Homo_sapiens')) + geom_point()\n",
    "p += labs(title = f\"Homo sapiens proportions predicted by Soucepretracker2 - $MSE = {mse_st}$ - $R^2 = {r2_st}$\", x='actual', y='predicted') \n",
    "p += theme_classic() \n",
    "p += coord_cartesian(xlim=[0,1], ylim=[0,1])\n",
    "p += geom_abline(intercept=0, slope=1, color = \"red\", alpha=0.2, linetype = 'dashed')\n",
    "p"
   ]
  },
  {
   "cell_type": "markdown",
   "metadata": {},
   "source": [
    "On this plot, the dotted red line represents what a perfect proportion estimation would give."
   ]
  },
  {
   "cell_type": "code",
   "execution_count": 37,
   "metadata": {},
   "outputs": [],
   "source": [
    "st_res_hist = (st_res['human_prop'].append(st_res['Homo_sapiens']).to_frame(name='Homo_sapiens_prop'))\n",
    "st_res_hist['source'] = (['actual']*st_res.shape[0]+['predicted']*st_res.shape[0])"
   ]
  },
  {
   "cell_type": "code",
   "execution_count": 38,
   "metadata": {},
   "outputs": [
    {
     "data": {
      "image/png": "[encoded data removed]",
      "text/plain": [
       "<Figure size 640x480 with 1 Axes>"
      ]
     },
     "metadata": {},
     "output_type": "display_data"
    },
    {
     "data": {
      "text/plain": [
       "<ggplot: (296769698)>"
      ]
     },
     "execution_count": 38,
     "metadata": {},
     "output_type": "execute_result"
    }
   ],
   "source": [
    "p = ggplot(data = st_res_hist, mapping=aes(x='Homo_sapiens_prop')) + geom_density(aes(fill='source'), alpha=0.4)\n",
    "p += labs(title = 'Distribution of Homo sapiens predicted proportions by Sourcetracker2') \n",
    "p += scale_fill_discrete(name=\"Homo sapiens proportion\")\n",
    "p += theme_classic() \n",
    "p"
   ]
  },
  {
   "cell_type": "markdown",
   "metadata": {},
   "source": [
    "This plot shows the actual and predicted by Sourcepredict distribution of Human proportions. What we are interested in is the overlap between the two colors: the higher it is, the more the estimated Human proportion is accurate."
   ]
  },
  {
   "cell_type": "markdown",
   "metadata": {},
   "source": [
    "## Conclusion\n",
    "For source proportion estimation in samples of mixed sources, Sourcepredict, especially when using it with `-kne all` neighbors, performs similarly, or slightly better than Sourcetracker2.  \n",
    "However, Sourcepredict wasn't designed for source prediction in mind, as opposed to source proportion estimation. Therefore, for source proportion estimation, we still recommend using Sourcetracker2, even if Sourcepredict can perform similarly."
   ]
  }
 ],
 "metadata": {
  "kernelspec": {
   "display_name": "Python [conda env:sourcepredict]",
   "language": "python",
   "name": "conda-env-sourcepredict-py"
  },
  "language_info": {
   "codemirror_mode": {
    "name": "ipython",
    "version": 3
   },
   "file_extension": ".py",
   "mimetype": "text/x-python",
   "name": "python",
   "nbconvert_exporter": "python",
   "pygments_lexer": "ipython3",
   "version": "3.7.3"
  }
 },
 "nbformat": 4,
 "nbformat_minor": 4
}
